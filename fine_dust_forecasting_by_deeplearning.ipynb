{
  "nbformat": 4,
  "nbformat_minor": 0,
  "metadata": {
    "kernelspec": {
      "display_name": "Python 3",
      "language": "python",
      "name": "python3"
    },
    "language_info": {
      "codemirror_mode": {
        "name": "ipython",
        "version": 3
      },
      "file_extension": ".py",
      "mimetype": "text/x-python",
      "name": "python",
      "nbconvert_exporter": "python",
      "pygments_lexer": "ipython3",
      "version": "3.8.3"
    },
    "colab": {
      "name": "fine-dust-forecasting-by-deeplearning.ipynb",
      "provenance": [],
      "collapsed_sections": [
        "_cKczRIWxjKQ"
      ],
      "toc_visible": true
    }
  },
  "cells": [
    {
      "cell_type": "markdown",
      "metadata": {
        "id": "KUsdt-36xjJy"
      },
      "source": [
        "# [미세먼지 경향분석 및 딥러닝 기반 예측](http://data.daegu.go.kr/open/main.do)\n",
        "빅데이터 인턴으로 있을 때 수행한 기상청 미세먼지 예측 프로젝트입니다  \n",
        "미세먼지 경향분석과 시계열 예측이 아닌 딥러닝 예측은 처음으로 적용했는데 정확성이 높게 나왔습니다"
      ]
    },
    {
      "cell_type": "markdown",
      "metadata": {
        "id": "GaVhXaFryis0"
      },
      "source": [
        "[![Open In Colab](https://colab.research.google.com/assets/colab-badge.svg)](https://colab.research.google.com/github/DongChanKIM2/fine-dust-forecasting-by-deeplearning/blob/main/**fine-dust-forecasting-by-deeplearning**.ipynb)"
      ]
    },
    {
      "cell_type": "markdown",
      "metadata": {
        "id": "E6DupzHexjJ9"
      },
      "source": [
        "## 필요한 라이브러리 불어오기"
      ]
    },
    {
      "cell_type": "code",
      "metadata": {
        "id": "sjCJ-Ny0xjJ_"
      },
      "source": [
        "import pandas as pd # 데이터\n",
        "import matplotlib.pyplot as plt\n",
        "import seaborn as sns # 시각화\n",
        "import numpy as np # 수학연산"
      ],
      "execution_count": null,
      "outputs": []
    },
    {
      "cell_type": "code",
      "metadata": {
        "scrolled": false,
        "id": "SlaA_Ju9xjKA",
        "outputId": "c9e64ae3-a322-4897-fc80-3d97313a2ed3"
      },
      "source": [
        "data=pd.read_csv('sample.csv')\n",
        "data"
      ],
      "execution_count": null,
      "outputs": [
        {
          "output_type": "execute_result",
          "data": {
            "text/html": [
              "<div>\n",
              "<style scoped>\n",
              "    .dataframe tbody tr th:only-of-type {\n",
              "        vertical-align: middle;\n",
              "    }\n",
              "\n",
              "    .dataframe tbody tr th {\n",
              "        vertical-align: top;\n",
              "    }\n",
              "\n",
              "    .dataframe thead th {\n",
              "        text-align: right;\n",
              "    }\n",
              "</style>\n",
              "<table border=\"1\" class=\"dataframe\">\n",
              "  <thead>\n",
              "    <tr style=\"text-align: right;\">\n",
              "      <th></th>\n",
              "      <th>시간</th>\n",
              "      <th>온도</th>\n",
              "      <th>풍향</th>\n",
              "      <th>풍속</th>\n",
              "      <th>일사량</th>\n",
              "      <th>습도</th>\n",
              "      <th>미세먼지</th>\n",
              "    </tr>\n",
              "  </thead>\n",
              "  <tbody>\n",
              "    <tr>\n",
              "      <th>0</th>\n",
              "      <td>2017-01-01 01시</td>\n",
              "      <td>1.6</td>\n",
              "      <td>북서</td>\n",
              "      <td>1.2</td>\n",
              "      <td>0</td>\n",
              "      <td>83.4</td>\n",
              "      <td>30</td>\n",
              "    </tr>\n",
              "    <tr>\n",
              "      <th>1</th>\n",
              "      <td>2017-01-01 02시</td>\n",
              "      <td>1.2</td>\n",
              "      <td>서북서</td>\n",
              "      <td>1</td>\n",
              "      <td>0</td>\n",
              "      <td>84.7</td>\n",
              "      <td>31</td>\n",
              "    </tr>\n",
              "    <tr>\n",
              "      <th>2</th>\n",
              "      <td>2017-01-01 03시</td>\n",
              "      <td>0.9</td>\n",
              "      <td>서</td>\n",
              "      <td>0.8</td>\n",
              "      <td>0</td>\n",
              "      <td>85.8</td>\n",
              "      <td>29</td>\n",
              "    </tr>\n",
              "    <tr>\n",
              "      <th>3</th>\n",
              "      <td>2017-01-01 04시</td>\n",
              "      <td>0.5</td>\n",
              "      <td>북서</td>\n",
              "      <td>1</td>\n",
              "      <td>0</td>\n",
              "      <td>89.1</td>\n",
              "      <td>27</td>\n",
              "    </tr>\n",
              "    <tr>\n",
              "      <th>4</th>\n",
              "      <td>2017-01-01 05시</td>\n",
              "      <td>0</td>\n",
              "      <td>서북서</td>\n",
              "      <td>0.8</td>\n",
              "      <td>0</td>\n",
              "      <td>88.6</td>\n",
              "      <td>29</td>\n",
              "    </tr>\n",
              "    <tr>\n",
              "      <th>...</th>\n",
              "      <td>...</td>\n",
              "      <td>...</td>\n",
              "      <td>...</td>\n",
              "      <td>...</td>\n",
              "      <td>...</td>\n",
              "      <td>...</td>\n",
              "      <td>...</td>\n",
              "    </tr>\n",
              "    <tr>\n",
              "      <th>16053</th>\n",
              "      <td>2018-10-31 22시</td>\n",
              "      <td>10.6</td>\n",
              "      <td>서</td>\n",
              "      <td>1.7</td>\n",
              "      <td>0</td>\n",
              "      <td>43.7</td>\n",
              "      <td>교정</td>\n",
              "    </tr>\n",
              "    <tr>\n",
              "      <th>16054</th>\n",
              "      <td>2018-10-31 23시</td>\n",
              "      <td>9.8</td>\n",
              "      <td>서남서</td>\n",
              "      <td>1.6</td>\n",
              "      <td>0</td>\n",
              "      <td>47.3</td>\n",
              "      <td>교정</td>\n",
              "    </tr>\n",
              "    <tr>\n",
              "      <th>16055</th>\n",
              "      <td>2018-10-31 24시</td>\n",
              "      <td>9.1</td>\n",
              "      <td>서남서</td>\n",
              "      <td>1.9</td>\n",
              "      <td>0</td>\n",
              "      <td>51.1</td>\n",
              "      <td>교정</td>\n",
              "    </tr>\n",
              "    <tr>\n",
              "      <th>16056</th>\n",
              "      <td>2018-11-01 01시</td>\n",
              "      <td>8.5</td>\n",
              "      <td>남서</td>\n",
              "      <td>2.1</td>\n",
              "      <td>0</td>\n",
              "      <td>55.1</td>\n",
              "      <td>교정</td>\n",
              "    </tr>\n",
              "    <tr>\n",
              "      <th>16057</th>\n",
              "      <td>2018-11-01 02시</td>\n",
              "      <td>7.9</td>\n",
              "      <td>서남서</td>\n",
              "      <td>1.7</td>\n",
              "      <td>0</td>\n",
              "      <td>57.9</td>\n",
              "      <td>교정</td>\n",
              "    </tr>\n",
              "  </tbody>\n",
              "</table>\n",
              "<p>16058 rows × 7 columns</p>\n",
              "</div>"
            ],
            "text/plain": [
              "                   시간    온도   풍향   풍속 일사량    습도 미세먼지\n",
              "0      2017-01-01 01시   1.6   북서  1.2   0  83.4   30\n",
              "1      2017-01-01 02시   1.2  서북서    1   0  84.7   31\n",
              "2      2017-01-01 03시   0.9    서  0.8   0  85.8   29\n",
              "3      2017-01-01 04시   0.5   북서    1   0  89.1   27\n",
              "4      2017-01-01 05시     0  서북서  0.8   0  88.6   29\n",
              "...               ...   ...  ...  ...  ..   ...  ...\n",
              "16053  2018-10-31 22시  10.6    서  1.7   0  43.7   교정\n",
              "16054  2018-10-31 23시   9.8  서남서  1.6   0  47.3   교정\n",
              "16055  2018-10-31 24시   9.1  서남서  1.9   0  51.1   교정\n",
              "16056  2018-11-01 01시   8.5   남서  2.1   0  55.1   교정\n",
              "16057  2018-11-01 02시   7.9  서남서  1.7   0  57.9   교정\n",
              "\n",
              "[16058 rows x 7 columns]"
            ]
          },
          "metadata": {
            "tags": []
          },
          "execution_count": 2
        }
      ]
    },
    {
      "cell_type": "code",
      "metadata": {
        "id": "dSKSs9nZxjKC",
        "outputId": "f96124da-7d2c-44ac-81ea-e62099b394f9"
      },
      "source": [
        "data.shape"
      ],
      "execution_count": null,
      "outputs": [
        {
          "output_type": "execute_result",
          "data": {
            "text/plain": [
              "(16058, 7)"
            ]
          },
          "metadata": {
            "tags": []
          },
          "execution_count": 3
        }
      ]
    },
    {
      "cell_type": "code",
      "metadata": {
        "id": "J2FDpNmTxjKD",
        "outputId": "fe1af5a9-2238-4877-9137-e62658e637c7"
      },
      "source": [
        "data.isnull().sum()"
      ],
      "execution_count": null,
      "outputs": [
        {
          "output_type": "execute_result",
          "data": {
            "text/plain": [
              "시간      0\n",
              "온도      0\n",
              "풍향      0\n",
              "풍속      0\n",
              "일사량     0\n",
              "습도      0\n",
              "미세먼지    0\n",
              "dtype: int64"
            ]
          },
          "metadata": {
            "tags": []
          },
          "execution_count": 4
        }
      ]
    },
    {
      "cell_type": "markdown",
      "metadata": {
        "id": "BVGPgriAxjKE"
      },
      "source": [
        "## 이상치 제거"
      ]
    },
    {
      "cell_type": "code",
      "metadata": {
        "id": "dSZK9ufxxjKF",
        "outputId": "93eda200-4b1b-4e67-bdc9-0c80521714cf"
      },
      "source": [
        "indexNames = data[(data['온도'] == '교정') | (data['온도'] == '동불') | (data['온도'] == '보수')].index\n",
        "data.drop(indexNames, inplace=True)\n",
        "data"
      ],
      "execution_count": null,
      "outputs": [
        {
          "output_type": "execute_result",
          "data": {
            "text/html": [
              "<div>\n",
              "<style scoped>\n",
              "    .dataframe tbody tr th:only-of-type {\n",
              "        vertical-align: middle;\n",
              "    }\n",
              "\n",
              "    .dataframe tbody tr th {\n",
              "        vertical-align: top;\n",
              "    }\n",
              "\n",
              "    .dataframe thead th {\n",
              "        text-align: right;\n",
              "    }\n",
              "</style>\n",
              "<table border=\"1\" class=\"dataframe\">\n",
              "  <thead>\n",
              "    <tr style=\"text-align: right;\">\n",
              "      <th></th>\n",
              "      <th>시간</th>\n",
              "      <th>온도</th>\n",
              "      <th>풍향</th>\n",
              "      <th>풍속</th>\n",
              "      <th>일사량</th>\n",
              "      <th>습도</th>\n",
              "      <th>미세먼지</th>\n",
              "    </tr>\n",
              "  </thead>\n",
              "  <tbody>\n",
              "    <tr>\n",
              "      <th>0</th>\n",
              "      <td>2017-01-01 01시</td>\n",
              "      <td>1.6</td>\n",
              "      <td>북서</td>\n",
              "      <td>1.2</td>\n",
              "      <td>0</td>\n",
              "      <td>83.4</td>\n",
              "      <td>30</td>\n",
              "    </tr>\n",
              "    <tr>\n",
              "      <th>1</th>\n",
              "      <td>2017-01-01 02시</td>\n",
              "      <td>1.2</td>\n",
              "      <td>서북서</td>\n",
              "      <td>1</td>\n",
              "      <td>0</td>\n",
              "      <td>84.7</td>\n",
              "      <td>31</td>\n",
              "    </tr>\n",
              "    <tr>\n",
              "      <th>2</th>\n",
              "      <td>2017-01-01 03시</td>\n",
              "      <td>0.9</td>\n",
              "      <td>서</td>\n",
              "      <td>0.8</td>\n",
              "      <td>0</td>\n",
              "      <td>85.8</td>\n",
              "      <td>29</td>\n",
              "    </tr>\n",
              "    <tr>\n",
              "      <th>3</th>\n",
              "      <td>2017-01-01 04시</td>\n",
              "      <td>0.5</td>\n",
              "      <td>북서</td>\n",
              "      <td>1</td>\n",
              "      <td>0</td>\n",
              "      <td>89.1</td>\n",
              "      <td>27</td>\n",
              "    </tr>\n",
              "    <tr>\n",
              "      <th>4</th>\n",
              "      <td>2017-01-01 05시</td>\n",
              "      <td>0</td>\n",
              "      <td>서북서</td>\n",
              "      <td>0.8</td>\n",
              "      <td>0</td>\n",
              "      <td>88.6</td>\n",
              "      <td>29</td>\n",
              "    </tr>\n",
              "    <tr>\n",
              "      <th>...</th>\n",
              "      <td>...</td>\n",
              "      <td>...</td>\n",
              "      <td>...</td>\n",
              "      <td>...</td>\n",
              "      <td>...</td>\n",
              "      <td>...</td>\n",
              "      <td>...</td>\n",
              "    </tr>\n",
              "    <tr>\n",
              "      <th>16053</th>\n",
              "      <td>2018-10-31 22시</td>\n",
              "      <td>10.6</td>\n",
              "      <td>서</td>\n",
              "      <td>1.7</td>\n",
              "      <td>0</td>\n",
              "      <td>43.7</td>\n",
              "      <td>교정</td>\n",
              "    </tr>\n",
              "    <tr>\n",
              "      <th>16054</th>\n",
              "      <td>2018-10-31 23시</td>\n",
              "      <td>9.8</td>\n",
              "      <td>서남서</td>\n",
              "      <td>1.6</td>\n",
              "      <td>0</td>\n",
              "      <td>47.3</td>\n",
              "      <td>교정</td>\n",
              "    </tr>\n",
              "    <tr>\n",
              "      <th>16055</th>\n",
              "      <td>2018-10-31 24시</td>\n",
              "      <td>9.1</td>\n",
              "      <td>서남서</td>\n",
              "      <td>1.9</td>\n",
              "      <td>0</td>\n",
              "      <td>51.1</td>\n",
              "      <td>교정</td>\n",
              "    </tr>\n",
              "    <tr>\n",
              "      <th>16056</th>\n",
              "      <td>2018-11-01 01시</td>\n",
              "      <td>8.5</td>\n",
              "      <td>남서</td>\n",
              "      <td>2.1</td>\n",
              "      <td>0</td>\n",
              "      <td>55.1</td>\n",
              "      <td>교정</td>\n",
              "    </tr>\n",
              "    <tr>\n",
              "      <th>16057</th>\n",
              "      <td>2018-11-01 02시</td>\n",
              "      <td>7.9</td>\n",
              "      <td>서남서</td>\n",
              "      <td>1.7</td>\n",
              "      <td>0</td>\n",
              "      <td>57.9</td>\n",
              "      <td>교정</td>\n",
              "    </tr>\n",
              "  </tbody>\n",
              "</table>\n",
              "<p>16031 rows × 7 columns</p>\n",
              "</div>"
            ],
            "text/plain": [
              "                   시간    온도   풍향   풍속 일사량    습도 미세먼지\n",
              "0      2017-01-01 01시   1.6   북서  1.2   0  83.4   30\n",
              "1      2017-01-01 02시   1.2  서북서    1   0  84.7   31\n",
              "2      2017-01-01 03시   0.9    서  0.8   0  85.8   29\n",
              "3      2017-01-01 04시   0.5   북서    1   0  89.1   27\n",
              "4      2017-01-01 05시     0  서북서  0.8   0  88.6   29\n",
              "...               ...   ...  ...  ...  ..   ...  ...\n",
              "16053  2018-10-31 22시  10.6    서  1.7   0  43.7   교정\n",
              "16054  2018-10-31 23시   9.8  서남서  1.6   0  47.3   교정\n",
              "16055  2018-10-31 24시   9.1  서남서  1.9   0  51.1   교정\n",
              "16056  2018-11-01 01시   8.5   남서  2.1   0  55.1   교정\n",
              "16057  2018-11-01 02시   7.9  서남서  1.7   0  57.9   교정\n",
              "\n",
              "[16031 rows x 7 columns]"
            ]
          },
          "metadata": {
            "tags": []
          },
          "execution_count": 5
        }
      ]
    },
    {
      "cell_type": "code",
      "metadata": {
        "id": "3ZMj-D_wxjKG",
        "outputId": "e728a653-7101-4beb-b2eb-440225214a61"
      },
      "source": [
        "indexNames = data[(data['일사량'] == '교정') | (data['일사량'] == '동불') | (data['일사량'] == '보수')].index\n",
        "data.drop(indexNames, inplace=True)\n",
        "data"
      ],
      "execution_count": null,
      "outputs": [
        {
          "output_type": "execute_result",
          "data": {
            "text/html": [
              "<div>\n",
              "<style scoped>\n",
              "    .dataframe tbody tr th:only-of-type {\n",
              "        vertical-align: middle;\n",
              "    }\n",
              "\n",
              "    .dataframe tbody tr th {\n",
              "        vertical-align: top;\n",
              "    }\n",
              "\n",
              "    .dataframe thead th {\n",
              "        text-align: right;\n",
              "    }\n",
              "</style>\n",
              "<table border=\"1\" class=\"dataframe\">\n",
              "  <thead>\n",
              "    <tr style=\"text-align: right;\">\n",
              "      <th></th>\n",
              "      <th>시간</th>\n",
              "      <th>온도</th>\n",
              "      <th>풍향</th>\n",
              "      <th>풍속</th>\n",
              "      <th>일사량</th>\n",
              "      <th>습도</th>\n",
              "      <th>미세먼지</th>\n",
              "    </tr>\n",
              "  </thead>\n",
              "  <tbody>\n",
              "    <tr>\n",
              "      <th>0</th>\n",
              "      <td>2017-01-01 01시</td>\n",
              "      <td>1.6</td>\n",
              "      <td>북서</td>\n",
              "      <td>1.2</td>\n",
              "      <td>0</td>\n",
              "      <td>83.4</td>\n",
              "      <td>30</td>\n",
              "    </tr>\n",
              "    <tr>\n",
              "      <th>1</th>\n",
              "      <td>2017-01-01 02시</td>\n",
              "      <td>1.2</td>\n",
              "      <td>서북서</td>\n",
              "      <td>1</td>\n",
              "      <td>0</td>\n",
              "      <td>84.7</td>\n",
              "      <td>31</td>\n",
              "    </tr>\n",
              "    <tr>\n",
              "      <th>2</th>\n",
              "      <td>2017-01-01 03시</td>\n",
              "      <td>0.9</td>\n",
              "      <td>서</td>\n",
              "      <td>0.8</td>\n",
              "      <td>0</td>\n",
              "      <td>85.8</td>\n",
              "      <td>29</td>\n",
              "    </tr>\n",
              "    <tr>\n",
              "      <th>3</th>\n",
              "      <td>2017-01-01 04시</td>\n",
              "      <td>0.5</td>\n",
              "      <td>북서</td>\n",
              "      <td>1</td>\n",
              "      <td>0</td>\n",
              "      <td>89.1</td>\n",
              "      <td>27</td>\n",
              "    </tr>\n",
              "    <tr>\n",
              "      <th>4</th>\n",
              "      <td>2017-01-01 05시</td>\n",
              "      <td>0</td>\n",
              "      <td>서북서</td>\n",
              "      <td>0.8</td>\n",
              "      <td>0</td>\n",
              "      <td>88.6</td>\n",
              "      <td>29</td>\n",
              "    </tr>\n",
              "    <tr>\n",
              "      <th>...</th>\n",
              "      <td>...</td>\n",
              "      <td>...</td>\n",
              "      <td>...</td>\n",
              "      <td>...</td>\n",
              "      <td>...</td>\n",
              "      <td>...</td>\n",
              "      <td>...</td>\n",
              "    </tr>\n",
              "    <tr>\n",
              "      <th>16053</th>\n",
              "      <td>2018-10-31 22시</td>\n",
              "      <td>10.6</td>\n",
              "      <td>서</td>\n",
              "      <td>1.7</td>\n",
              "      <td>0</td>\n",
              "      <td>43.7</td>\n",
              "      <td>교정</td>\n",
              "    </tr>\n",
              "    <tr>\n",
              "      <th>16054</th>\n",
              "      <td>2018-10-31 23시</td>\n",
              "      <td>9.8</td>\n",
              "      <td>서남서</td>\n",
              "      <td>1.6</td>\n",
              "      <td>0</td>\n",
              "      <td>47.3</td>\n",
              "      <td>교정</td>\n",
              "    </tr>\n",
              "    <tr>\n",
              "      <th>16055</th>\n",
              "      <td>2018-10-31 24시</td>\n",
              "      <td>9.1</td>\n",
              "      <td>서남서</td>\n",
              "      <td>1.9</td>\n",
              "      <td>0</td>\n",
              "      <td>51.1</td>\n",
              "      <td>교정</td>\n",
              "    </tr>\n",
              "    <tr>\n",
              "      <th>16056</th>\n",
              "      <td>2018-11-01 01시</td>\n",
              "      <td>8.5</td>\n",
              "      <td>남서</td>\n",
              "      <td>2.1</td>\n",
              "      <td>0</td>\n",
              "      <td>55.1</td>\n",
              "      <td>교정</td>\n",
              "    </tr>\n",
              "    <tr>\n",
              "      <th>16057</th>\n",
              "      <td>2018-11-01 02시</td>\n",
              "      <td>7.9</td>\n",
              "      <td>서남서</td>\n",
              "      <td>1.7</td>\n",
              "      <td>0</td>\n",
              "      <td>57.9</td>\n",
              "      <td>교정</td>\n",
              "    </tr>\n",
              "  </tbody>\n",
              "</table>\n",
              "<p>15963 rows × 7 columns</p>\n",
              "</div>"
            ],
            "text/plain": [
              "                   시간    온도   풍향   풍속 일사량    습도 미세먼지\n",
              "0      2017-01-01 01시   1.6   북서  1.2   0  83.4   30\n",
              "1      2017-01-01 02시   1.2  서북서    1   0  84.7   31\n",
              "2      2017-01-01 03시   0.9    서  0.8   0  85.8   29\n",
              "3      2017-01-01 04시   0.5   북서    1   0  89.1   27\n",
              "4      2017-01-01 05시     0  서북서  0.8   0  88.6   29\n",
              "...               ...   ...  ...  ...  ..   ...  ...\n",
              "16053  2018-10-31 22시  10.6    서  1.7   0  43.7   교정\n",
              "16054  2018-10-31 23시   9.8  서남서  1.6   0  47.3   교정\n",
              "16055  2018-10-31 24시   9.1  서남서  1.9   0  51.1   교정\n",
              "16056  2018-11-01 01시   8.5   남서  2.1   0  55.1   교정\n",
              "16057  2018-11-01 02시   7.9  서남서  1.7   0  57.9   교정\n",
              "\n",
              "[15963 rows x 7 columns]"
            ]
          },
          "metadata": {
            "tags": []
          },
          "execution_count": 6
        }
      ]
    },
    {
      "cell_type": "code",
      "metadata": {
        "id": "qcOtmrRrxjKH",
        "outputId": "fde9075c-5618-43f4-fb8d-1a745397fa10"
      },
      "source": [
        "indexNames = data[(data['온도'] == '교정') | (data['온도'] == '동불') | (data['온도'] == '보수')].index\n",
        "data.drop(indexNames, inplace=True)\n",
        "data"
      ],
      "execution_count": null,
      "outputs": [
        {
          "output_type": "execute_result",
          "data": {
            "text/html": [
              "<div>\n",
              "<style scoped>\n",
              "    .dataframe tbody tr th:only-of-type {\n",
              "        vertical-align: middle;\n",
              "    }\n",
              "\n",
              "    .dataframe tbody tr th {\n",
              "        vertical-align: top;\n",
              "    }\n",
              "\n",
              "    .dataframe thead th {\n",
              "        text-align: right;\n",
              "    }\n",
              "</style>\n",
              "<table border=\"1\" class=\"dataframe\">\n",
              "  <thead>\n",
              "    <tr style=\"text-align: right;\">\n",
              "      <th></th>\n",
              "      <th>시간</th>\n",
              "      <th>온도</th>\n",
              "      <th>풍향</th>\n",
              "      <th>풍속</th>\n",
              "      <th>일사량</th>\n",
              "      <th>습도</th>\n",
              "      <th>미세먼지</th>\n",
              "    </tr>\n",
              "  </thead>\n",
              "  <tbody>\n",
              "    <tr>\n",
              "      <th>0</th>\n",
              "      <td>2017-01-01 01시</td>\n",
              "      <td>1.6</td>\n",
              "      <td>북서</td>\n",
              "      <td>1.2</td>\n",
              "      <td>0</td>\n",
              "      <td>83.4</td>\n",
              "      <td>30</td>\n",
              "    </tr>\n",
              "    <tr>\n",
              "      <th>1</th>\n",
              "      <td>2017-01-01 02시</td>\n",
              "      <td>1.2</td>\n",
              "      <td>서북서</td>\n",
              "      <td>1</td>\n",
              "      <td>0</td>\n",
              "      <td>84.7</td>\n",
              "      <td>31</td>\n",
              "    </tr>\n",
              "    <tr>\n",
              "      <th>2</th>\n",
              "      <td>2017-01-01 03시</td>\n",
              "      <td>0.9</td>\n",
              "      <td>서</td>\n",
              "      <td>0.8</td>\n",
              "      <td>0</td>\n",
              "      <td>85.8</td>\n",
              "      <td>29</td>\n",
              "    </tr>\n",
              "    <tr>\n",
              "      <th>3</th>\n",
              "      <td>2017-01-01 04시</td>\n",
              "      <td>0.5</td>\n",
              "      <td>북서</td>\n",
              "      <td>1</td>\n",
              "      <td>0</td>\n",
              "      <td>89.1</td>\n",
              "      <td>27</td>\n",
              "    </tr>\n",
              "    <tr>\n",
              "      <th>4</th>\n",
              "      <td>2017-01-01 05시</td>\n",
              "      <td>0</td>\n",
              "      <td>서북서</td>\n",
              "      <td>0.8</td>\n",
              "      <td>0</td>\n",
              "      <td>88.6</td>\n",
              "      <td>29</td>\n",
              "    </tr>\n",
              "    <tr>\n",
              "      <th>...</th>\n",
              "      <td>...</td>\n",
              "      <td>...</td>\n",
              "      <td>...</td>\n",
              "      <td>...</td>\n",
              "      <td>...</td>\n",
              "      <td>...</td>\n",
              "      <td>...</td>\n",
              "    </tr>\n",
              "    <tr>\n",
              "      <th>16053</th>\n",
              "      <td>2018-10-31 22시</td>\n",
              "      <td>10.6</td>\n",
              "      <td>서</td>\n",
              "      <td>1.7</td>\n",
              "      <td>0</td>\n",
              "      <td>43.7</td>\n",
              "      <td>교정</td>\n",
              "    </tr>\n",
              "    <tr>\n",
              "      <th>16054</th>\n",
              "      <td>2018-10-31 23시</td>\n",
              "      <td>9.8</td>\n",
              "      <td>서남서</td>\n",
              "      <td>1.6</td>\n",
              "      <td>0</td>\n",
              "      <td>47.3</td>\n",
              "      <td>교정</td>\n",
              "    </tr>\n",
              "    <tr>\n",
              "      <th>16055</th>\n",
              "      <td>2018-10-31 24시</td>\n",
              "      <td>9.1</td>\n",
              "      <td>서남서</td>\n",
              "      <td>1.9</td>\n",
              "      <td>0</td>\n",
              "      <td>51.1</td>\n",
              "      <td>교정</td>\n",
              "    </tr>\n",
              "    <tr>\n",
              "      <th>16056</th>\n",
              "      <td>2018-11-01 01시</td>\n",
              "      <td>8.5</td>\n",
              "      <td>남서</td>\n",
              "      <td>2.1</td>\n",
              "      <td>0</td>\n",
              "      <td>55.1</td>\n",
              "      <td>교정</td>\n",
              "    </tr>\n",
              "    <tr>\n",
              "      <th>16057</th>\n",
              "      <td>2018-11-01 02시</td>\n",
              "      <td>7.9</td>\n",
              "      <td>서남서</td>\n",
              "      <td>1.7</td>\n",
              "      <td>0</td>\n",
              "      <td>57.9</td>\n",
              "      <td>교정</td>\n",
              "    </tr>\n",
              "  </tbody>\n",
              "</table>\n",
              "<p>15963 rows × 7 columns</p>\n",
              "</div>"
            ],
            "text/plain": [
              "                   시간    온도   풍향   풍속 일사량    습도 미세먼지\n",
              "0      2017-01-01 01시   1.6   북서  1.2   0  83.4   30\n",
              "1      2017-01-01 02시   1.2  서북서    1   0  84.7   31\n",
              "2      2017-01-01 03시   0.9    서  0.8   0  85.8   29\n",
              "3      2017-01-01 04시   0.5   북서    1   0  89.1   27\n",
              "4      2017-01-01 05시     0  서북서  0.8   0  88.6   29\n",
              "...               ...   ...  ...  ...  ..   ...  ...\n",
              "16053  2018-10-31 22시  10.6    서  1.7   0  43.7   교정\n",
              "16054  2018-10-31 23시   9.8  서남서  1.6   0  47.3   교정\n",
              "16055  2018-10-31 24시   9.1  서남서  1.9   0  51.1   교정\n",
              "16056  2018-11-01 01시   8.5   남서  2.1   0  55.1   교정\n",
              "16057  2018-11-01 02시   7.9  서남서  1.7   0  57.9   교정\n",
              "\n",
              "[15963 rows x 7 columns]"
            ]
          },
          "metadata": {
            "tags": []
          },
          "execution_count": 7
        }
      ]
    },
    {
      "cell_type": "code",
      "metadata": {
        "id": "vPK6dpzRxjKI",
        "outputId": "b4c2f7cf-e780-430b-d530-935effdf8cb1"
      },
      "source": [
        "indexNames = data[(data['미세먼지'] == '교정') | (data['미세먼지'] == '동불') | (data['미세먼지'] == '보수')| (data['미세먼지'] == '이상')].index\n",
        "data.drop(indexNames, inplace=True)\n",
        "data"
      ],
      "execution_count": null,
      "outputs": [
        {
          "output_type": "execute_result",
          "data": {
            "text/html": [
              "<div>\n",
              "<style scoped>\n",
              "    .dataframe tbody tr th:only-of-type {\n",
              "        vertical-align: middle;\n",
              "    }\n",
              "\n",
              "    .dataframe tbody tr th {\n",
              "        vertical-align: top;\n",
              "    }\n",
              "\n",
              "    .dataframe thead th {\n",
              "        text-align: right;\n",
              "    }\n",
              "</style>\n",
              "<table border=\"1\" class=\"dataframe\">\n",
              "  <thead>\n",
              "    <tr style=\"text-align: right;\">\n",
              "      <th></th>\n",
              "      <th>시간</th>\n",
              "      <th>온도</th>\n",
              "      <th>풍향</th>\n",
              "      <th>풍속</th>\n",
              "      <th>일사량</th>\n",
              "      <th>습도</th>\n",
              "      <th>미세먼지</th>\n",
              "    </tr>\n",
              "  </thead>\n",
              "  <tbody>\n",
              "    <tr>\n",
              "      <th>0</th>\n",
              "      <td>2017-01-01 01시</td>\n",
              "      <td>1.6</td>\n",
              "      <td>북서</td>\n",
              "      <td>1.2</td>\n",
              "      <td>0</td>\n",
              "      <td>83.4</td>\n",
              "      <td>30</td>\n",
              "    </tr>\n",
              "    <tr>\n",
              "      <th>1</th>\n",
              "      <td>2017-01-01 02시</td>\n",
              "      <td>1.2</td>\n",
              "      <td>서북서</td>\n",
              "      <td>1</td>\n",
              "      <td>0</td>\n",
              "      <td>84.7</td>\n",
              "      <td>31</td>\n",
              "    </tr>\n",
              "    <tr>\n",
              "      <th>2</th>\n",
              "      <td>2017-01-01 03시</td>\n",
              "      <td>0.9</td>\n",
              "      <td>서</td>\n",
              "      <td>0.8</td>\n",
              "      <td>0</td>\n",
              "      <td>85.8</td>\n",
              "      <td>29</td>\n",
              "    </tr>\n",
              "    <tr>\n",
              "      <th>3</th>\n",
              "      <td>2017-01-01 04시</td>\n",
              "      <td>0.5</td>\n",
              "      <td>북서</td>\n",
              "      <td>1</td>\n",
              "      <td>0</td>\n",
              "      <td>89.1</td>\n",
              "      <td>27</td>\n",
              "    </tr>\n",
              "    <tr>\n",
              "      <th>4</th>\n",
              "      <td>2017-01-01 05시</td>\n",
              "      <td>0</td>\n",
              "      <td>서북서</td>\n",
              "      <td>0.8</td>\n",
              "      <td>0</td>\n",
              "      <td>88.6</td>\n",
              "      <td>29</td>\n",
              "    </tr>\n",
              "    <tr>\n",
              "      <th>...</th>\n",
              "      <td>...</td>\n",
              "      <td>...</td>\n",
              "      <td>...</td>\n",
              "      <td>...</td>\n",
              "      <td>...</td>\n",
              "      <td>...</td>\n",
              "      <td>...</td>\n",
              "    </tr>\n",
              "    <tr>\n",
              "      <th>16013</th>\n",
              "      <td>2018-10-30 06시</td>\n",
              "      <td>6.6</td>\n",
              "      <td>북북서</td>\n",
              "      <td>2.6</td>\n",
              "      <td>0</td>\n",
              "      <td>66.1</td>\n",
              "      <td>10</td>\n",
              "    </tr>\n",
              "    <tr>\n",
              "      <th>16014</th>\n",
              "      <td>2018-10-30 07시</td>\n",
              "      <td>6.2</td>\n",
              "      <td>북서</td>\n",
              "      <td>2.2</td>\n",
              "      <td>4</td>\n",
              "      <td>65.5</td>\n",
              "      <td>11</td>\n",
              "    </tr>\n",
              "    <tr>\n",
              "      <th>16015</th>\n",
              "      <td>2018-10-30 08시</td>\n",
              "      <td>6.4</td>\n",
              "      <td>서북서</td>\n",
              "      <td>2.4</td>\n",
              "      <td>84</td>\n",
              "      <td>59.5</td>\n",
              "      <td>11</td>\n",
              "    </tr>\n",
              "    <tr>\n",
              "      <th>16016</th>\n",
              "      <td>2018-10-30 09시</td>\n",
              "      <td>7.3</td>\n",
              "      <td>서북서</td>\n",
              "      <td>3.1</td>\n",
              "      <td>257</td>\n",
              "      <td>50.9</td>\n",
              "      <td>12</td>\n",
              "    </tr>\n",
              "    <tr>\n",
              "      <th>16017</th>\n",
              "      <td>2018-10-30 10시</td>\n",
              "      <td>8.2</td>\n",
              "      <td>서</td>\n",
              "      <td>2.9</td>\n",
              "      <td>425</td>\n",
              "      <td>42.2</td>\n",
              "      <td>8</td>\n",
              "    </tr>\n",
              "  </tbody>\n",
              "</table>\n",
              "<p>13779 rows × 7 columns</p>\n",
              "</div>"
            ],
            "text/plain": [
              "                   시간   온도   풍향   풍속  일사량    습도 미세먼지\n",
              "0      2017-01-01 01시  1.6   북서  1.2    0  83.4   30\n",
              "1      2017-01-01 02시  1.2  서북서    1    0  84.7   31\n",
              "2      2017-01-01 03시  0.9    서  0.8    0  85.8   29\n",
              "3      2017-01-01 04시  0.5   북서    1    0  89.1   27\n",
              "4      2017-01-01 05시    0  서북서  0.8    0  88.6   29\n",
              "...               ...  ...  ...  ...  ...   ...  ...\n",
              "16013  2018-10-30 06시  6.6  북북서  2.6    0  66.1   10\n",
              "16014  2018-10-30 07시  6.2   북서  2.2    4  65.5   11\n",
              "16015  2018-10-30 08시  6.4  서북서  2.4   84  59.5   11\n",
              "16016  2018-10-30 09시  7.3  서북서  3.1  257  50.9   12\n",
              "16017  2018-10-30 10시  8.2    서  2.9  425  42.2    8\n",
              "\n",
              "[13779 rows x 7 columns]"
            ]
          },
          "metadata": {
            "tags": []
          },
          "execution_count": 8
        }
      ]
    },
    {
      "cell_type": "markdown",
      "metadata": {
        "id": "ZewbKxpRxjKN"
      },
      "source": [
        "## One hot encoding"
      ]
    },
    {
      "cell_type": "code",
      "metadata": {
        "id": "pNAATzauxjKO"
      },
      "source": [
        "data['풍향']=data['풍향'].map({'남':0, '남남동':1, '남남서':2, '남동':3, '남서':4, \n",
        "                           '동':5, '동남동':6,'동북동':7,\n",
        "                           '북':8,'북동':9,'북북동':10,'북북서':11,'북서':12,\n",
        "                          '서':13,'서남서':14,'서북서':15})"
      ],
      "execution_count": null,
      "outputs": []
    },
    {
      "cell_type": "code",
      "metadata": {
        "id": "bO_olzbfxjKO"
      },
      "source": [
        "data.온도=data.온도.astype(\"float\")\n",
        "data.일사량=data.일사량.astype(\"float\")\n",
        "data.습도=data.습도.astype(\"float\")\n",
        "data.미세먼지=data.미세먼지.astype(\"float\")\n",
        "data.풍속=data.풍속.astype(\"float\")\n",
        "data=data.drop('시간',axis=1)"
      ],
      "execution_count": null,
      "outputs": []
    },
    {
      "cell_type": "markdown",
      "metadata": {
        "id": "2970gZROxjKO"
      },
      "source": [
        "## Column명 변경"
      ]
    },
    {
      "cell_type": "code",
      "metadata": {
        "id": "tCjhw4OdxjKP"
      },
      "source": [
        "data.columns = [' temp', 'dir', 'speed','sunlight','mist','dust']"
      ],
      "execution_count": null,
      "outputs": []
    },
    {
      "cell_type": "code",
      "metadata": {
        "id": "UAdm8JOkxjKP",
        "outputId": "ddcc7beb-ef92-46cf-81c8-d8f9b47e7006"
      },
      "source": [
        "data.head()"
      ],
      "execution_count": null,
      "outputs": [
        {
          "output_type": "execute_result",
          "data": {
            "text/html": [
              "<div>\n",
              "<style scoped>\n",
              "    .dataframe tbody tr th:only-of-type {\n",
              "        vertical-align: middle;\n",
              "    }\n",
              "\n",
              "    .dataframe tbody tr th {\n",
              "        vertical-align: top;\n",
              "    }\n",
              "\n",
              "    .dataframe thead th {\n",
              "        text-align: right;\n",
              "    }\n",
              "</style>\n",
              "<table border=\"1\" class=\"dataframe\">\n",
              "  <thead>\n",
              "    <tr style=\"text-align: right;\">\n",
              "      <th></th>\n",
              "      <th>temp</th>\n",
              "      <th>dir</th>\n",
              "      <th>speed</th>\n",
              "      <th>sunlight</th>\n",
              "      <th>mist</th>\n",
              "      <th>dust</th>\n",
              "    </tr>\n",
              "  </thead>\n",
              "  <tbody>\n",
              "    <tr>\n",
              "      <th>0</th>\n",
              "      <td>1.6</td>\n",
              "      <td>12</td>\n",
              "      <td>1.2</td>\n",
              "      <td>0.0</td>\n",
              "      <td>83.4</td>\n",
              "      <td>30.0</td>\n",
              "    </tr>\n",
              "    <tr>\n",
              "      <th>1</th>\n",
              "      <td>1.2</td>\n",
              "      <td>15</td>\n",
              "      <td>1.0</td>\n",
              "      <td>0.0</td>\n",
              "      <td>84.7</td>\n",
              "      <td>31.0</td>\n",
              "    </tr>\n",
              "    <tr>\n",
              "      <th>2</th>\n",
              "      <td>0.9</td>\n",
              "      <td>13</td>\n",
              "      <td>0.8</td>\n",
              "      <td>0.0</td>\n",
              "      <td>85.8</td>\n",
              "      <td>29.0</td>\n",
              "    </tr>\n",
              "    <tr>\n",
              "      <th>3</th>\n",
              "      <td>0.5</td>\n",
              "      <td>12</td>\n",
              "      <td>1.0</td>\n",
              "      <td>0.0</td>\n",
              "      <td>89.1</td>\n",
              "      <td>27.0</td>\n",
              "    </tr>\n",
              "    <tr>\n",
              "      <th>4</th>\n",
              "      <td>0.0</td>\n",
              "      <td>15</td>\n",
              "      <td>0.8</td>\n",
              "      <td>0.0</td>\n",
              "      <td>88.6</td>\n",
              "      <td>29.0</td>\n",
              "    </tr>\n",
              "  </tbody>\n",
              "</table>\n",
              "</div>"
            ],
            "text/plain": [
              "    temp  dir  speed  sunlight  mist  dust\n",
              "0    1.6   12    1.2       0.0  83.4  30.0\n",
              "1    1.2   15    1.0       0.0  84.7  31.0\n",
              "2    0.9   13    0.8       0.0  85.8  29.0\n",
              "3    0.5   12    1.0       0.0  89.1  27.0\n",
              "4    0.0   15    0.8       0.0  88.6  29.0"
            ]
          },
          "metadata": {
            "tags": []
          },
          "execution_count": 12
        }
      ]
    },
    {
      "cell_type": "markdown",
      "metadata": {
        "id": "3k03Gns-zjqh"
      },
      "source": [
        "histogram을 통해 dust와 가장 유사한 plot이 speed임을 알고 있고 상관관계가 있음을 알 수 있음"
      ]
    },
    {
      "cell_type": "code",
      "metadata": {
        "id": "rrLWTitbxjKP",
        "outputId": "58c367e5-dd39-4da0-8b76-288e2d14c745"
      },
      "source": [
        "#bins 막대 세분화 면적\n",
        "data.hist(bins=50, figsize=(20,15))"
      ],
      "execution_count": null,
      "outputs": [
        {
          "output_type": "execute_result",
          "data": {
            "text/plain": [
              "array([[<matplotlib.axes._subplots.AxesSubplot object at 0x0000018558A9A250>,\n",
              "        <matplotlib.axes._subplots.AxesSubplot object at 0x000001855896B700>],\n",
              "       [<matplotlib.axes._subplots.AxesSubplot object at 0x0000018558999B50>,\n",
              "        <matplotlib.axes._subplots.AxesSubplot object at 0x00000185589C6FD0>],\n",
              "       [<matplotlib.axes._subplots.AxesSubplot object at 0x0000018558B8F460>,\n",
              "        <matplotlib.axes._subplots.AxesSubplot object at 0x0000018558BB87F0>]],\n",
              "      dtype=object)"
            ]
          },
          "metadata": {
            "tags": []
          },
          "execution_count": 13
        },
        {
          "output_type": "display_data",
          "data": {
            "image/png": "[encoded data removed]",
            "text/plain": [
              "<Figure size 1440x1080 with 6 Axes>"
            ]
          },
          "metadata": {
            "tags": [],
            "needs_background": "light"
          }
        }
      ]
    },
    {
      "cell_type": "markdown",
      "metadata": {
        "id": "_cKczRIWxjKQ"
      },
      "source": [
        "## Dust와 Speed의 상관관계를 Plot에서 확인"
      ]
    },
    {
      "cell_type": "markdown",
      "metadata": {
        "id": "Jq_Ifo6LxjKQ"
      },
      "source": [
        "## 상관계수"
      ]
    },
    {
      "cell_type": "code",
      "metadata": {
        "id": "KYE2ync-xjKQ"
      },
      "source": [
        "corr = data.corr()"
      ],
      "execution_count": null,
      "outputs": []
    },
    {
      "cell_type": "code",
      "metadata": {
        "id": "6VSQQNk0xjKR",
        "outputId": "afd8da24-2301-45bb-ce9d-20465f1f7535"
      },
      "source": [
        "corr['dust'].sort_values(ascending=False)"
      ],
      "execution_count": null,
      "outputs": [
        {
          "output_type": "execute_result",
          "data": {
            "text/plain": [
              "dust        1.000000\n",
              "dir         0.058014\n",
              "sunlight    0.027568\n",
              "mist       -0.044335\n",
              " temp      -0.163861\n",
              "speed      -0.360485\n",
              "Name: dust, dtype: float64"
            ]
          },
          "metadata": {
            "tags": []
          },
          "execution_count": 15
        }
      ]
    },
    {
      "cell_type": "markdown",
      "metadata": {
        "id": "0ub_igslzuh8"
      },
      "source": [
        "위의 그림에서 예측한 바와 같이 speed와 dust의 상관관계가 가장 큼"
      ]
    },
    {
      "cell_type": "code",
      "metadata": {
        "id": "j0oUiZraxjKR",
        "outputId": "12358e70-afa6-43e6-a4f1-c81020046def"
      },
      "source": [
        "plt.figure(figsize=(20,20))\n",
        "df_heatmap=sns.heatmap(corr, cbar=True, annot=True, annot_kws={'size':30}, fmt='.2f',square=True, cmap='hot')"
      ],
      "execution_count": null,
      "outputs": [
        {
          "output_type": "display_data",
          "data": {
            "image/png": "[encoded data removed]",
            "text/plain": [
              "<Figure size 1440x1440 with 2 Axes>"
            ]
          },
          "metadata": {
            "tags": [],
            "needs_background": "light"
          }
        }
      ]
    },
    {
      "cell_type": "code",
      "metadata": {
        "id": "AuIdRZ8rxjKR"
      },
      "source": [
        "y_data=data.dust\n",
        "y_data.columns=['dust']\n",
        "y_data=y_data"
      ],
      "execution_count": null,
      "outputs": []
    },
    {
      "cell_type": "code",
      "metadata": {
        "id": "j8FUrgLjxjKS",
        "outputId": "58df8e91-be8d-415d-887e-a3cd6a3651c5"
      },
      "source": [
        "data=data.drop('dust',axis=1)\n",
        "x_data=data\n",
        "x_data"
      ],
      "execution_count": null,
      "outputs": [
        {
          "output_type": "execute_result",
          "data": {
            "text/html": [
              "<div>\n",
              "<style scoped>\n",
              "    .dataframe tbody tr th:only-of-type {\n",
              "        vertical-align: middle;\n",
              "    }\n",
              "\n",
              "    .dataframe tbody tr th {\n",
              "        vertical-align: top;\n",
              "    }\n",
              "\n",
              "    .dataframe thead th {\n",
              "        text-align: right;\n",
              "    }\n",
              "</style>\n",
              "<table border=\"1\" class=\"dataframe\">\n",
              "  <thead>\n",
              "    <tr style=\"text-align: right;\">\n",
              "      <th></th>\n",
              "      <th>temp</th>\n",
              "      <th>dir</th>\n",
              "      <th>speed</th>\n",
              "      <th>sunlight</th>\n",
              "      <th>mist</th>\n",
              "    </tr>\n",
              "  </thead>\n",
              "  <tbody>\n",
              "    <tr>\n",
              "      <th>0</th>\n",
              "      <td>1.6</td>\n",
              "      <td>12</td>\n",
              "      <td>1.2</td>\n",
              "      <td>0.0</td>\n",
              "      <td>83.4</td>\n",
              "    </tr>\n",
              "    <tr>\n",
              "      <th>1</th>\n",
              "      <td>1.2</td>\n",
              "      <td>15</td>\n",
              "      <td>1.0</td>\n",
              "      <td>0.0</td>\n",
              "      <td>84.7</td>\n",
              "    </tr>\n",
              "    <tr>\n",
              "      <th>2</th>\n",
              "      <td>0.9</td>\n",
              "      <td>13</td>\n",
              "      <td>0.8</td>\n",
              "      <td>0.0</td>\n",
              "      <td>85.8</td>\n",
              "    </tr>\n",
              "    <tr>\n",
              "      <th>3</th>\n",
              "      <td>0.5</td>\n",
              "      <td>12</td>\n",
              "      <td>1.0</td>\n",
              "      <td>0.0</td>\n",
              "      <td>89.1</td>\n",
              "    </tr>\n",
              "    <tr>\n",
              "      <th>4</th>\n",
              "      <td>0.0</td>\n",
              "      <td>15</td>\n",
              "      <td>0.8</td>\n",
              "      <td>0.0</td>\n",
              "      <td>88.6</td>\n",
              "    </tr>\n",
              "    <tr>\n",
              "      <th>...</th>\n",
              "      <td>...</td>\n",
              "      <td>...</td>\n",
              "      <td>...</td>\n",
              "      <td>...</td>\n",
              "      <td>...</td>\n",
              "    </tr>\n",
              "    <tr>\n",
              "      <th>16013</th>\n",
              "      <td>6.6</td>\n",
              "      <td>11</td>\n",
              "      <td>2.6</td>\n",
              "      <td>0.0</td>\n",
              "      <td>66.1</td>\n",
              "    </tr>\n",
              "    <tr>\n",
              "      <th>16014</th>\n",
              "      <td>6.2</td>\n",
              "      <td>12</td>\n",
              "      <td>2.2</td>\n",
              "      <td>4.0</td>\n",
              "      <td>65.5</td>\n",
              "    </tr>\n",
              "    <tr>\n",
              "      <th>16015</th>\n",
              "      <td>6.4</td>\n",
              "      <td>15</td>\n",
              "      <td>2.4</td>\n",
              "      <td>84.0</td>\n",
              "      <td>59.5</td>\n",
              "    </tr>\n",
              "    <tr>\n",
              "      <th>16016</th>\n",
              "      <td>7.3</td>\n",
              "      <td>15</td>\n",
              "      <td>3.1</td>\n",
              "      <td>257.0</td>\n",
              "      <td>50.9</td>\n",
              "    </tr>\n",
              "    <tr>\n",
              "      <th>16017</th>\n",
              "      <td>8.2</td>\n",
              "      <td>13</td>\n",
              "      <td>2.9</td>\n",
              "      <td>425.0</td>\n",
              "      <td>42.2</td>\n",
              "    </tr>\n",
              "  </tbody>\n",
              "</table>\n",
              "<p>13779 rows × 5 columns</p>\n",
              "</div>"
            ],
            "text/plain": [
              "        temp  dir  speed  sunlight  mist\n",
              "0        1.6   12    1.2       0.0  83.4\n",
              "1        1.2   15    1.0       0.0  84.7\n",
              "2        0.9   13    0.8       0.0  85.8\n",
              "3        0.5   12    1.0       0.0  89.1\n",
              "4        0.0   15    0.8       0.0  88.6\n",
              "...      ...  ...    ...       ...   ...\n",
              "16013    6.6   11    2.6       0.0  66.1\n",
              "16014    6.2   12    2.2       4.0  65.5\n",
              "16015    6.4   15    2.4      84.0  59.5\n",
              "16016    7.3   15    3.1     257.0  50.9\n",
              "16017    8.2   13    2.9     425.0  42.2\n",
              "\n",
              "[13779 rows x 5 columns]"
            ]
          },
          "metadata": {
            "tags": []
          },
          "execution_count": 18
        }
      ]
    },
    {
      "cell_type": "markdown",
      "metadata": {
        "id": "ZXJvaw8oxjKS"
      },
      "source": [
        "## 딥러닝(LSTM)을 통한 시계열 예측"
      ]
    },
    {
      "cell_type": "code",
      "metadata": {
        "id": "EkpXkTo-xjKS"
      },
      "source": [
        "from numpy import array # 수학연산 배열\n",
        "from numpy import hstack # 수학연산 stack\n",
        "\n",
        "%config lnlineBackend.figure_format = 'retina'\n",
        "\n",
        "from keras.models import Sequential # keras 시계열\n",
        "from keras.layers import Dense, LSTM # keras LSTM Model"
      ],
      "execution_count": null,
      "outputs": []
    },
    {
      "cell_type": "code",
      "metadata": {
        "id": "nrSrkc7MxjKT",
        "outputId": "a12a6b28-eb9e-45e8-cce3-74ed1db7aeb7"
      },
      "source": [
        "y_data"
      ],
      "execution_count": null,
      "outputs": [
        {
          "output_type": "execute_result",
          "data": {
            "text/plain": [
              "0        30.0\n",
              "1        31.0\n",
              "2        29.0\n",
              "3        27.0\n",
              "4        29.0\n",
              "         ... \n",
              "16013    10.0\n",
              "16014    11.0\n",
              "16015    11.0\n",
              "16016    12.0\n",
              "16017     8.0\n",
              "Name: dust, Length: 13779, dtype: float64"
            ]
          },
          "metadata": {
            "tags": []
          },
          "execution_count": 20
        }
      ]
    },
    {
      "cell_type": "markdown",
      "metadata": {
        "id": "PXrIbRV6xjKT"
      },
      "source": [
        "## 결과값 Array로 변경"
      ]
    },
    {
      "cell_type": "code",
      "metadata": {
        "id": "o0nmzOrExjKT",
        "outputId": "0e1bbf66-1dc8-4925-fbaf-bc845d8c1f90"
      },
      "source": [
        "train=array(y_data)\n",
        "train.shape\n",
        "train\n",
        "#test\n",
        "#train"
      ],
      "execution_count": null,
      "outputs": [
        {
          "output_type": "execute_result",
          "data": {
            "text/plain": [
              "array([30., 31., 29., ..., 11., 12.,  8.])"
            ]
          },
          "metadata": {
            "tags": []
          },
          "execution_count": 21
        }
      ]
    },
    {
      "cell_type": "code",
      "metadata": {
        "id": "JK3ex_9PxjKU"
      },
      "source": [
        "#np.random.seed(777)"
      ],
      "execution_count": null,
      "outputs": []
    },
    {
      "cell_type": "code",
      "metadata": {
        "id": "VVYBsltjxjKU"
      },
      "source": [
        "#LSTM 입력에 대해 출력을 맵핑\n",
        "#시계열 예측을 위한 다층퍼셉트론 모델 제작\n",
        "#제작한 Array를 5개씩 묶어서 하나의 결과값으로 새로운 Array에 append\n",
        "\n",
        "steps=5\n",
        "features=1\n",
        "def split_sequence(sequence, steps):\n",
        "    X, y = list(), list()\n",
        "    for i in range(len(sequence)):\n",
        "        end_index = i + steps\n",
        "        if end_index > len(sequence)-1:\n",
        "            break\n",
        "        seq_x,seq_y = sequence[i:end_index],sequence[end_index]\n",
        "        X.append(seq_x)\n",
        "        y.append(seq_y)\n",
        "    return array(X), array(y)"
      ],
      "execution_count": null,
      "outputs": []
    },
    {
      "cell_type": "code",
      "metadata": {
        "id": "cyPPdz2jxjKU",
        "outputId": "34665324-0e48-48fa-c11c-e5fbf9e08c82"
      },
      "source": [
        "#13779개의 데이터가 5개씩 끊어서 맵핑을 한 결과 13774개로 감소\n",
        "train_train, train_test = split_sequence(train, steps)\n",
        "print(train_train.shape, train_test.shape)"
      ],
      "execution_count": null,
      "outputs": [
        {
          "output_type": "stream",
          "text": [
            "(13774, 5) (13774,)\n"
          ],
          "name": "stdout"
        }
      ]
    },
    {
      "cell_type": "code",
      "metadata": {
        "id": "liLpwXlsxjKV",
        "outputId": "abc959b6-76fd-4da9-8315-22c49e7005ce"
      },
      "source": [
        "#데이터가 5개씩 묶인 것 확인\n",
        "train_train"
      ],
      "execution_count": null,
      "outputs": [
        {
          "output_type": "execute_result",
          "data": {
            "text/plain": [
              "array([[30., 31., 29., 27., 29.],\n",
              "       [31., 29., 27., 29., 30.],\n",
              "       [29., 27., 29., 30., 31.],\n",
              "       ...,\n",
              "       [10.,  7.,  7., 10., 11.],\n",
              "       [ 7.,  7., 10., 11., 11.],\n",
              "       [ 7., 10., 11., 11., 12.]])"
            ]
          },
          "metadata": {
            "tags": []
          },
          "execution_count": 25
        }
      ]
    },
    {
      "cell_type": "code",
      "metadata": {
        "id": "ZEBiOnFZxjKV",
        "outputId": "a6ae997a-2a3f-411a-9268-a5b301b3a00d"
      },
      "source": [
        "train_test"
      ],
      "execution_count": null,
      "outputs": [
        {
          "output_type": "execute_result",
          "data": {
            "text/plain": [
              "array([30., 31., 36., ..., 11., 12.,  8.])"
            ]
          },
          "metadata": {
            "tags": []
          },
          "execution_count": 26
        }
      ]
    },
    {
      "cell_type": "code",
      "metadata": {
        "id": "ZT1B478ZxjKV"
      },
      "source": [
        "#reshpae을 통한 배열 재구조\n",
        "train_train = train_train.reshape((train_train.shape[0], train_train.shape[1], features))"
      ],
      "execution_count": null,
      "outputs": []
    },
    {
      "cell_type": "code",
      "metadata": {
        "id": "RdQdZ3S2xjKW",
        "outputId": "5bf042cc-6851-47d7-e8f1-8dbfd4fd016b"
      },
      "source": [
        "train_train"
      ],
      "execution_count": null,
      "outputs": [
        {
          "output_type": "execute_result",
          "data": {
            "text/plain": [
              "array([[[30.],\n",
              "        [31.],\n",
              "        [29.],\n",
              "        [27.],\n",
              "        [29.]],\n",
              "\n",
              "       [[31.],\n",
              "        [29.],\n",
              "        [27.],\n",
              "        [29.],\n",
              "        [30.]],\n",
              "\n",
              "       [[29.],\n",
              "        [27.],\n",
              "        [29.],\n",
              "        [30.],\n",
              "        [31.]],\n",
              "\n",
              "       ...,\n",
              "\n",
              "       [[10.],\n",
              "        [ 7.],\n",
              "        [ 7.],\n",
              "        [10.],\n",
              "        [11.]],\n",
              "\n",
              "       [[ 7.],\n",
              "        [ 7.],\n",
              "        [10.],\n",
              "        [11.],\n",
              "        [11.]],\n",
              "\n",
              "       [[ 7.],\n",
              "        [10.],\n",
              "        [11.],\n",
              "        [11.],\n",
              "        [12.]]])"
            ]
          },
          "metadata": {
            "tags": []
          },
          "execution_count": 28
        }
      ]
    },
    {
      "cell_type": "code",
      "metadata": {
        "id": "eTy5yqxFxjKW",
        "outputId": "5491b273-8b85-4975-b2e9-ceb6710580e9"
      },
      "source": [
        "model=Sequential()\n",
        "model.add(LSTM(300, activation='relu', return_sequences=True, input_shape=(steps,features)))\n",
        "model.add(LSTM(300, activation='relu'))\n",
        "model.add(Dense(1))\n",
        "model.compile(optimizer='adam', loss='mse')\n",
        "histogram = model.fit(train_train, train_test, epochs=30, batch_size=100, verbose=1)"
      ],
      "execution_count": null,
      "outputs": [
        {
          "output_type": "stream",
          "text": [
            "Epoch 1/30\n",
            "138/138 [==============================] - 15s 105ms/step - loss: 69.9733\n",
            "Epoch 2/30\n",
            "138/138 [==============================] - 12s 90ms/step - loss: 26.8318\n",
            "Epoch 3/30\n",
            "138/138 [==============================] - 12s 88ms/step - loss: 26.2871\n",
            "Epoch 4/30\n",
            "138/138 [==============================] - 12s 89ms/step - loss: 26.2320\n",
            "Epoch 5/30\n",
            "138/138 [==============================] - 12s 85ms/step - loss: 25.4379\n",
            "Epoch 6/30\n",
            "138/138 [==============================] - 13s 91ms/step - loss: 25.6124\n",
            "Epoch 7/30\n",
            "138/138 [==============================] - 12s 88ms/step - loss: 26.2902\n",
            "Epoch 8/30\n",
            "138/138 [==============================] - 12s 86ms/step - loss: 25.4682\n",
            "Epoch 9/30\n",
            "138/138 [==============================] - 12s 90ms/step - loss: 25.3891\n",
            "Epoch 10/30\n",
            "138/138 [==============================] - 13s 95ms/step - loss: 25.9797\n",
            "Epoch 11/30\n",
            "138/138 [==============================] - 13s 91ms/step - loss: 25.6720\n",
            "Epoch 12/30\n",
            "138/138 [==============================] - 13s 93ms/step - loss: 25.2351\n",
            "Epoch 13/30\n",
            "138/138 [==============================] - 12s 89ms/step - loss: 25.4716\n",
            "Epoch 14/30\n",
            "138/138 [==============================] - 13s 93ms/step - loss: 25.3704\n",
            "Epoch 15/30\n",
            "138/138 [==============================] - 14s 105ms/step - loss: 25.3721\n",
            "Epoch 16/30\n",
            "138/138 [==============================] - 14s 102ms/step - loss: 24.9305\n",
            "Epoch 17/30\n",
            "138/138 [==============================] - 14s 99ms/step - loss: 24.6807\n",
            "Epoch 18/30\n",
            "138/138 [==============================] - 14s 98ms/step - loss: 25.1252\n",
            "Epoch 19/30\n",
            "138/138 [==============================] - 13s 95ms/step - loss: 25.2041\n",
            "Epoch 20/30\n",
            "138/138 [==============================] - 13s 91ms/step - loss: 24.5531\n",
            "Epoch 21/30\n",
            "138/138 [==============================] - 12s 88ms/step - loss: 25.0847\n",
            "Epoch 22/30\n",
            "138/138 [==============================] - 14s 100ms/step - loss: 24.8205\n",
            "Epoch 23/30\n",
            "138/138 [==============================] - 14s 105ms/step - loss: 24.4752\n",
            "Epoch 24/30\n",
            "138/138 [==============================] - 14s 103ms/step - loss: 24.7792\n",
            "Epoch 25/30\n",
            "138/138 [==============================] - 14s 98ms/step - loss: 25.0314\n",
            "Epoch 26/30\n",
            "138/138 [==============================] - 14s 100ms/step - loss: 24.6133\n",
            "Epoch 27/30\n",
            "138/138 [==============================] - 13s 94ms/step - loss: 24.5496\n",
            "Epoch 28/30\n",
            "138/138 [==============================] - 9s 68ms/step - loss: 24.7534\n",
            "Epoch 29/30\n",
            "138/138 [==============================] - 8s 57ms/step - loss: 24.6504\n",
            "Epoch 30/30\n",
            "138/138 [==============================] - 8s 57ms/step - loss: 24.6213\n"
          ],
          "name": "stdout"
        }
      ]
    },
    {
      "cell_type": "code",
      "metadata": {
        "id": "w9KsF6c5xjKW",
        "outputId": "b937c300-843a-48a4-ae65-065364862d48"
      },
      "source": [
        "test=pd.read_csv('test.csv')\n",
        "test"
      ],
      "execution_count": null,
      "outputs": [
        {
          "output_type": "execute_result",
          "data": {
            "text/html": [
              "<div>\n",
              "<style scoped>\n",
              "    .dataframe tbody tr th:only-of-type {\n",
              "        vertical-align: middle;\n",
              "    }\n",
              "\n",
              "    .dataframe tbody tr th {\n",
              "        vertical-align: top;\n",
              "    }\n",
              "\n",
              "    .dataframe thead th {\n",
              "        text-align: right;\n",
              "    }\n",
              "</style>\n",
              "<table border=\"1\" class=\"dataframe\">\n",
              "  <thead>\n",
              "    <tr style=\"text-align: right;\">\n",
              "      <th></th>\n",
              "      <th>시간</th>\n",
              "      <th>온도</th>\n",
              "      <th>풍향</th>\n",
              "      <th>풍속</th>\n",
              "      <th>일사량</th>\n",
              "      <th>습도</th>\n",
              "      <th>미세먼지</th>\n",
              "    </tr>\n",
              "  </thead>\n",
              "  <tbody>\n",
              "    <tr>\n",
              "      <th>0</th>\n",
              "      <td>2018-11-01 03시</td>\n",
              "      <td>7.5</td>\n",
              "      <td>서</td>\n",
              "      <td>1.4</td>\n",
              "      <td>0</td>\n",
              "      <td>60.9</td>\n",
              "      <td>34</td>\n",
              "    </tr>\n",
              "    <tr>\n",
              "      <th>1</th>\n",
              "      <td>2018-11-01 04시</td>\n",
              "      <td>6.6</td>\n",
              "      <td>서북서</td>\n",
              "      <td>1.5</td>\n",
              "      <td>0</td>\n",
              "      <td>69</td>\n",
              "      <td>44</td>\n",
              "    </tr>\n",
              "    <tr>\n",
              "      <th>2</th>\n",
              "      <td>2018-11-01 05시</td>\n",
              "      <td>5.9</td>\n",
              "      <td>북서</td>\n",
              "      <td>1.3</td>\n",
              "      <td>0</td>\n",
              "      <td>74.7</td>\n",
              "      <td>55</td>\n",
              "    </tr>\n",
              "    <tr>\n",
              "      <th>3</th>\n",
              "      <td>2018-11-01 06시</td>\n",
              "      <td>5</td>\n",
              "      <td>북서</td>\n",
              "      <td>1.6</td>\n",
              "      <td>0</td>\n",
              "      <td>76.7</td>\n",
              "      <td>43</td>\n",
              "    </tr>\n",
              "    <tr>\n",
              "      <th>4</th>\n",
              "      <td>2018-11-01 07시</td>\n",
              "      <td>4.5</td>\n",
              "      <td>북서</td>\n",
              "      <td>1.4</td>\n",
              "      <td>4</td>\n",
              "      <td>79</td>\n",
              "      <td>48</td>\n",
              "    </tr>\n",
              "    <tr>\n",
              "      <th>...</th>\n",
              "      <td>...</td>\n",
              "      <td>...</td>\n",
              "      <td>...</td>\n",
              "      <td>...</td>\n",
              "      <td>...</td>\n",
              "      <td>...</td>\n",
              "      <td>...</td>\n",
              "    </tr>\n",
              "    <tr>\n",
              "      <th>7289</th>\n",
              "      <td>2019-08-31 20시</td>\n",
              "      <td>26.8</td>\n",
              "      <td>북서</td>\n",
              "      <td>1.9</td>\n",
              "      <td>0</td>\n",
              "      <td>49.7</td>\n",
              "      <td>14</td>\n",
              "    </tr>\n",
              "    <tr>\n",
              "      <th>7290</th>\n",
              "      <td>2019-08-31 21시</td>\n",
              "      <td>26.1</td>\n",
              "      <td>동북동</td>\n",
              "      <td>1.4</td>\n",
              "      <td>0</td>\n",
              "      <td>53.7</td>\n",
              "      <td>17</td>\n",
              "    </tr>\n",
              "    <tr>\n",
              "      <th>7291</th>\n",
              "      <td>2019-08-31 22시</td>\n",
              "      <td>24.9</td>\n",
              "      <td>동남동</td>\n",
              "      <td>1.5</td>\n",
              "      <td>0</td>\n",
              "      <td>59.1</td>\n",
              "      <td>23</td>\n",
              "    </tr>\n",
              "    <tr>\n",
              "      <th>7292</th>\n",
              "      <td>2019-08-31 23시</td>\n",
              "      <td>24.4</td>\n",
              "      <td>동</td>\n",
              "      <td>1.4</td>\n",
              "      <td>0</td>\n",
              "      <td>60.6</td>\n",
              "      <td>21</td>\n",
              "    </tr>\n",
              "    <tr>\n",
              "      <th>7293</th>\n",
              "      <td>2019-08-31 24시</td>\n",
              "      <td>23.6</td>\n",
              "      <td>동</td>\n",
              "      <td>1.7</td>\n",
              "      <td>0</td>\n",
              "      <td>63.7</td>\n",
              "      <td>16</td>\n",
              "    </tr>\n",
              "  </tbody>\n",
              "</table>\n",
              "<p>7294 rows × 7 columns</p>\n",
              "</div>"
            ],
            "text/plain": [
              "                  시간    온도   풍향   풍속 일사량    습도 미세먼지\n",
              "0     2018-11-01 03시   7.5    서  1.4   0  60.9   34\n",
              "1     2018-11-01 04시   6.6  서북서  1.5   0    69   44\n",
              "2     2018-11-01 05시   5.9   북서  1.3   0  74.7   55\n",
              "3     2018-11-01 06시     5   북서  1.6   0  76.7   43\n",
              "4     2018-11-01 07시   4.5   북서  1.4   4    79   48\n",
              "...              ...   ...  ...  ...  ..   ...  ...\n",
              "7289  2019-08-31 20시  26.8   북서  1.9   0  49.7   14\n",
              "7290  2019-08-31 21시  26.1  동북동  1.4   0  53.7   17\n",
              "7291  2019-08-31 22시  24.9  동남동  1.5   0  59.1   23\n",
              "7292  2019-08-31 23시  24.4    동  1.4   0  60.6   21\n",
              "7293  2019-08-31 24시  23.6    동  1.7   0  63.7   16\n",
              "\n",
              "[7294 rows x 7 columns]"
            ]
          },
          "metadata": {
            "tags": []
          },
          "execution_count": 30
        }
      ]
    },
    {
      "cell_type": "code",
      "metadata": {
        "id": "596zskmxxjKX",
        "outputId": "42965d52-0f2d-4a4d-d65a-64d321adb8a3"
      },
      "source": [
        "test.isnull().sum()"
      ],
      "execution_count": null,
      "outputs": [
        {
          "output_type": "execute_result",
          "data": {
            "text/plain": [
              "시간      0\n",
              "온도      0\n",
              "풍향      0\n",
              "풍속      0\n",
              "일사량     0\n",
              "습도      0\n",
              "미세먼지    0\n",
              "dtype: int64"
            ]
          },
          "metadata": {
            "tags": []
          },
          "execution_count": 31
        }
      ]
    },
    {
      "cell_type": "code",
      "metadata": {
        "id": "JcTBRplWxjKY",
        "outputId": "3ce6be30-86e3-4ec2-bc2b-61a9b30cad11"
      },
      "source": [
        "indexNames = test[(test['온도'] == '교정') | (test['온도'] == '동불') | (test['온도'] == '보수')].index\n",
        "test.drop(indexNames, inplace=True)\n",
        "test"
      ],
      "execution_count": null,
      "outputs": [
        {
          "output_type": "execute_result",
          "data": {
            "text/html": [
              "<div>\n",
              "<style scoped>\n",
              "    .dataframe tbody tr th:only-of-type {\n",
              "        vertical-align: middle;\n",
              "    }\n",
              "\n",
              "    .dataframe tbody tr th {\n",
              "        vertical-align: top;\n",
              "    }\n",
              "\n",
              "    .dataframe thead th {\n",
              "        text-align: right;\n",
              "    }\n",
              "</style>\n",
              "<table border=\"1\" class=\"dataframe\">\n",
              "  <thead>\n",
              "    <tr style=\"text-align: right;\">\n",
              "      <th></th>\n",
              "      <th>시간</th>\n",
              "      <th>온도</th>\n",
              "      <th>풍향</th>\n",
              "      <th>풍속</th>\n",
              "      <th>일사량</th>\n",
              "      <th>습도</th>\n",
              "      <th>미세먼지</th>\n",
              "    </tr>\n",
              "  </thead>\n",
              "  <tbody>\n",
              "    <tr>\n",
              "      <th>0</th>\n",
              "      <td>2018-11-01 03시</td>\n",
              "      <td>7.5</td>\n",
              "      <td>서</td>\n",
              "      <td>1.4</td>\n",
              "      <td>0</td>\n",
              "      <td>60.9</td>\n",
              "      <td>34</td>\n",
              "    </tr>\n",
              "    <tr>\n",
              "      <th>1</th>\n",
              "      <td>2018-11-01 04시</td>\n",
              "      <td>6.6</td>\n",
              "      <td>서북서</td>\n",
              "      <td>1.5</td>\n",
              "      <td>0</td>\n",
              "      <td>69</td>\n",
              "      <td>44</td>\n",
              "    </tr>\n",
              "    <tr>\n",
              "      <th>2</th>\n",
              "      <td>2018-11-01 05시</td>\n",
              "      <td>5.9</td>\n",
              "      <td>북서</td>\n",
              "      <td>1.3</td>\n",
              "      <td>0</td>\n",
              "      <td>74.7</td>\n",
              "      <td>55</td>\n",
              "    </tr>\n",
              "    <tr>\n",
              "      <th>3</th>\n",
              "      <td>2018-11-01 06시</td>\n",
              "      <td>5</td>\n",
              "      <td>북서</td>\n",
              "      <td>1.6</td>\n",
              "      <td>0</td>\n",
              "      <td>76.7</td>\n",
              "      <td>43</td>\n",
              "    </tr>\n",
              "    <tr>\n",
              "      <th>4</th>\n",
              "      <td>2018-11-01 07시</td>\n",
              "      <td>4.5</td>\n",
              "      <td>북서</td>\n",
              "      <td>1.4</td>\n",
              "      <td>4</td>\n",
              "      <td>79</td>\n",
              "      <td>48</td>\n",
              "    </tr>\n",
              "    <tr>\n",
              "      <th>...</th>\n",
              "      <td>...</td>\n",
              "      <td>...</td>\n",
              "      <td>...</td>\n",
              "      <td>...</td>\n",
              "      <td>...</td>\n",
              "      <td>...</td>\n",
              "      <td>...</td>\n",
              "    </tr>\n",
              "    <tr>\n",
              "      <th>7289</th>\n",
              "      <td>2019-08-31 20시</td>\n",
              "      <td>26.8</td>\n",
              "      <td>북서</td>\n",
              "      <td>1.9</td>\n",
              "      <td>0</td>\n",
              "      <td>49.7</td>\n",
              "      <td>14</td>\n",
              "    </tr>\n",
              "    <tr>\n",
              "      <th>7290</th>\n",
              "      <td>2019-08-31 21시</td>\n",
              "      <td>26.1</td>\n",
              "      <td>동북동</td>\n",
              "      <td>1.4</td>\n",
              "      <td>0</td>\n",
              "      <td>53.7</td>\n",
              "      <td>17</td>\n",
              "    </tr>\n",
              "    <tr>\n",
              "      <th>7291</th>\n",
              "      <td>2019-08-31 22시</td>\n",
              "      <td>24.9</td>\n",
              "      <td>동남동</td>\n",
              "      <td>1.5</td>\n",
              "      <td>0</td>\n",
              "      <td>59.1</td>\n",
              "      <td>23</td>\n",
              "    </tr>\n",
              "    <tr>\n",
              "      <th>7292</th>\n",
              "      <td>2019-08-31 23시</td>\n",
              "      <td>24.4</td>\n",
              "      <td>동</td>\n",
              "      <td>1.4</td>\n",
              "      <td>0</td>\n",
              "      <td>60.6</td>\n",
              "      <td>21</td>\n",
              "    </tr>\n",
              "    <tr>\n",
              "      <th>7293</th>\n",
              "      <td>2019-08-31 24시</td>\n",
              "      <td>23.6</td>\n",
              "      <td>동</td>\n",
              "      <td>1.7</td>\n",
              "      <td>0</td>\n",
              "      <td>63.7</td>\n",
              "      <td>16</td>\n",
              "    </tr>\n",
              "  </tbody>\n",
              "</table>\n",
              "<p>7285 rows × 7 columns</p>\n",
              "</div>"
            ],
            "text/plain": [
              "                  시간    온도   풍향   풍속 일사량    습도 미세먼지\n",
              "0     2018-11-01 03시   7.5    서  1.4   0  60.9   34\n",
              "1     2018-11-01 04시   6.6  서북서  1.5   0    69   44\n",
              "2     2018-11-01 05시   5.9   북서  1.3   0  74.7   55\n",
              "3     2018-11-01 06시     5   북서  1.6   0  76.7   43\n",
              "4     2018-11-01 07시   4.5   북서  1.4   4    79   48\n",
              "...              ...   ...  ...  ...  ..   ...  ...\n",
              "7289  2019-08-31 20시  26.8   북서  1.9   0  49.7   14\n",
              "7290  2019-08-31 21시  26.1  동북동  1.4   0  53.7   17\n",
              "7291  2019-08-31 22시  24.9  동남동  1.5   0  59.1   23\n",
              "7292  2019-08-31 23시  24.4    동  1.4   0  60.6   21\n",
              "7293  2019-08-31 24시  23.6    동  1.7   0  63.7   16\n",
              "\n",
              "[7285 rows x 7 columns]"
            ]
          },
          "metadata": {
            "tags": []
          },
          "execution_count": 32
        }
      ]
    },
    {
      "cell_type": "code",
      "metadata": {
        "id": "7q1n8nYaxjKY",
        "outputId": "955dd448-d436-4201-d6e0-e2b65b5fe1c0"
      },
      "source": [
        "indexNames = test[(test['일사량'] == '교정') | (test['일사량'] == '동불') | (test['일사량'] == '보수')].index\n",
        "test.drop(indexNames, inplace=True)\n",
        "test"
      ],
      "execution_count": null,
      "outputs": [
        {
          "output_type": "execute_result",
          "data": {
            "text/html": [
              "<div>\n",
              "<style scoped>\n",
              "    .dataframe tbody tr th:only-of-type {\n",
              "        vertical-align: middle;\n",
              "    }\n",
              "\n",
              "    .dataframe tbody tr th {\n",
              "        vertical-align: top;\n",
              "    }\n",
              "\n",
              "    .dataframe thead th {\n",
              "        text-align: right;\n",
              "    }\n",
              "</style>\n",
              "<table border=\"1\" class=\"dataframe\">\n",
              "  <thead>\n",
              "    <tr style=\"text-align: right;\">\n",
              "      <th></th>\n",
              "      <th>시간</th>\n",
              "      <th>온도</th>\n",
              "      <th>풍향</th>\n",
              "      <th>풍속</th>\n",
              "      <th>일사량</th>\n",
              "      <th>습도</th>\n",
              "      <th>미세먼지</th>\n",
              "    </tr>\n",
              "  </thead>\n",
              "  <tbody>\n",
              "    <tr>\n",
              "      <th>0</th>\n",
              "      <td>2018-11-01 03시</td>\n",
              "      <td>7.5</td>\n",
              "      <td>서</td>\n",
              "      <td>1.4</td>\n",
              "      <td>0</td>\n",
              "      <td>60.9</td>\n",
              "      <td>34</td>\n",
              "    </tr>\n",
              "    <tr>\n",
              "      <th>1</th>\n",
              "      <td>2018-11-01 04시</td>\n",
              "      <td>6.6</td>\n",
              "      <td>서북서</td>\n",
              "      <td>1.5</td>\n",
              "      <td>0</td>\n",
              "      <td>69</td>\n",
              "      <td>44</td>\n",
              "    </tr>\n",
              "    <tr>\n",
              "      <th>2</th>\n",
              "      <td>2018-11-01 05시</td>\n",
              "      <td>5.9</td>\n",
              "      <td>북서</td>\n",
              "      <td>1.3</td>\n",
              "      <td>0</td>\n",
              "      <td>74.7</td>\n",
              "      <td>55</td>\n",
              "    </tr>\n",
              "    <tr>\n",
              "      <th>3</th>\n",
              "      <td>2018-11-01 06시</td>\n",
              "      <td>5</td>\n",
              "      <td>북서</td>\n",
              "      <td>1.6</td>\n",
              "      <td>0</td>\n",
              "      <td>76.7</td>\n",
              "      <td>43</td>\n",
              "    </tr>\n",
              "    <tr>\n",
              "      <th>4</th>\n",
              "      <td>2018-11-01 07시</td>\n",
              "      <td>4.5</td>\n",
              "      <td>북서</td>\n",
              "      <td>1.4</td>\n",
              "      <td>4</td>\n",
              "      <td>79</td>\n",
              "      <td>48</td>\n",
              "    </tr>\n",
              "    <tr>\n",
              "      <th>...</th>\n",
              "      <td>...</td>\n",
              "      <td>...</td>\n",
              "      <td>...</td>\n",
              "      <td>...</td>\n",
              "      <td>...</td>\n",
              "      <td>...</td>\n",
              "      <td>...</td>\n",
              "    </tr>\n",
              "    <tr>\n",
              "      <th>7289</th>\n",
              "      <td>2019-08-31 20시</td>\n",
              "      <td>26.8</td>\n",
              "      <td>북서</td>\n",
              "      <td>1.9</td>\n",
              "      <td>0</td>\n",
              "      <td>49.7</td>\n",
              "      <td>14</td>\n",
              "    </tr>\n",
              "    <tr>\n",
              "      <th>7290</th>\n",
              "      <td>2019-08-31 21시</td>\n",
              "      <td>26.1</td>\n",
              "      <td>동북동</td>\n",
              "      <td>1.4</td>\n",
              "      <td>0</td>\n",
              "      <td>53.7</td>\n",
              "      <td>17</td>\n",
              "    </tr>\n",
              "    <tr>\n",
              "      <th>7291</th>\n",
              "      <td>2019-08-31 22시</td>\n",
              "      <td>24.9</td>\n",
              "      <td>동남동</td>\n",
              "      <td>1.5</td>\n",
              "      <td>0</td>\n",
              "      <td>59.1</td>\n",
              "      <td>23</td>\n",
              "    </tr>\n",
              "    <tr>\n",
              "      <th>7292</th>\n",
              "      <td>2019-08-31 23시</td>\n",
              "      <td>24.4</td>\n",
              "      <td>동</td>\n",
              "      <td>1.4</td>\n",
              "      <td>0</td>\n",
              "      <td>60.6</td>\n",
              "      <td>21</td>\n",
              "    </tr>\n",
              "    <tr>\n",
              "      <th>7293</th>\n",
              "      <td>2019-08-31 24시</td>\n",
              "      <td>23.6</td>\n",
              "      <td>동</td>\n",
              "      <td>1.7</td>\n",
              "      <td>0</td>\n",
              "      <td>63.7</td>\n",
              "      <td>16</td>\n",
              "    </tr>\n",
              "  </tbody>\n",
              "</table>\n",
              "<p>7260 rows × 7 columns</p>\n",
              "</div>"
            ],
            "text/plain": [
              "                  시간    온도   풍향   풍속 일사량    습도 미세먼지\n",
              "0     2018-11-01 03시   7.5    서  1.4   0  60.9   34\n",
              "1     2018-11-01 04시   6.6  서북서  1.5   0    69   44\n",
              "2     2018-11-01 05시   5.9   북서  1.3   0  74.7   55\n",
              "3     2018-11-01 06시     5   북서  1.6   0  76.7   43\n",
              "4     2018-11-01 07시   4.5   북서  1.4   4    79   48\n",
              "...              ...   ...  ...  ...  ..   ...  ...\n",
              "7289  2019-08-31 20시  26.8   북서  1.9   0  49.7   14\n",
              "7290  2019-08-31 21시  26.1  동북동  1.4   0  53.7   17\n",
              "7291  2019-08-31 22시  24.9  동남동  1.5   0  59.1   23\n",
              "7292  2019-08-31 23시  24.4    동  1.4   0  60.6   21\n",
              "7293  2019-08-31 24시  23.6    동  1.7   0  63.7   16\n",
              "\n",
              "[7260 rows x 7 columns]"
            ]
          },
          "metadata": {
            "tags": []
          },
          "execution_count": 33
        }
      ]
    },
    {
      "cell_type": "code",
      "metadata": {
        "id": "598aECx_xjKZ",
        "outputId": "4c1c6715-0f91-49c9-8d91-505ce6e0b490"
      },
      "source": [
        "indexNames = test[(test['온도'] == '교정') | (test['온도'] == '동불') | (test['온도'] == '보수')].index\n",
        "test.drop(indexNames, inplace=True)\n",
        "test"
      ],
      "execution_count": null,
      "outputs": [
        {
          "output_type": "execute_result",
          "data": {
            "text/html": [
              "<div>\n",
              "<style scoped>\n",
              "    .dataframe tbody tr th:only-of-type {\n",
              "        vertical-align: middle;\n",
              "    }\n",
              "\n",
              "    .dataframe tbody tr th {\n",
              "        vertical-align: top;\n",
              "    }\n",
              "\n",
              "    .dataframe thead th {\n",
              "        text-align: right;\n",
              "    }\n",
              "</style>\n",
              "<table border=\"1\" class=\"dataframe\">\n",
              "  <thead>\n",
              "    <tr style=\"text-align: right;\">\n",
              "      <th></th>\n",
              "      <th>시간</th>\n",
              "      <th>온도</th>\n",
              "      <th>풍향</th>\n",
              "      <th>풍속</th>\n",
              "      <th>일사량</th>\n",
              "      <th>습도</th>\n",
              "      <th>미세먼지</th>\n",
              "    </tr>\n",
              "  </thead>\n",
              "  <tbody>\n",
              "    <tr>\n",
              "      <th>0</th>\n",
              "      <td>2018-11-01 03시</td>\n",
              "      <td>7.5</td>\n",
              "      <td>서</td>\n",
              "      <td>1.4</td>\n",
              "      <td>0</td>\n",
              "      <td>60.9</td>\n",
              "      <td>34</td>\n",
              "    </tr>\n",
              "    <tr>\n",
              "      <th>1</th>\n",
              "      <td>2018-11-01 04시</td>\n",
              "      <td>6.6</td>\n",
              "      <td>서북서</td>\n",
              "      <td>1.5</td>\n",
              "      <td>0</td>\n",
              "      <td>69</td>\n",
              "      <td>44</td>\n",
              "    </tr>\n",
              "    <tr>\n",
              "      <th>2</th>\n",
              "      <td>2018-11-01 05시</td>\n",
              "      <td>5.9</td>\n",
              "      <td>북서</td>\n",
              "      <td>1.3</td>\n",
              "      <td>0</td>\n",
              "      <td>74.7</td>\n",
              "      <td>55</td>\n",
              "    </tr>\n",
              "    <tr>\n",
              "      <th>3</th>\n",
              "      <td>2018-11-01 06시</td>\n",
              "      <td>5</td>\n",
              "      <td>북서</td>\n",
              "      <td>1.6</td>\n",
              "      <td>0</td>\n",
              "      <td>76.7</td>\n",
              "      <td>43</td>\n",
              "    </tr>\n",
              "    <tr>\n",
              "      <th>4</th>\n",
              "      <td>2018-11-01 07시</td>\n",
              "      <td>4.5</td>\n",
              "      <td>북서</td>\n",
              "      <td>1.4</td>\n",
              "      <td>4</td>\n",
              "      <td>79</td>\n",
              "      <td>48</td>\n",
              "    </tr>\n",
              "    <tr>\n",
              "      <th>...</th>\n",
              "      <td>...</td>\n",
              "      <td>...</td>\n",
              "      <td>...</td>\n",
              "      <td>...</td>\n",
              "      <td>...</td>\n",
              "      <td>...</td>\n",
              "      <td>...</td>\n",
              "    </tr>\n",
              "    <tr>\n",
              "      <th>7289</th>\n",
              "      <td>2019-08-31 20시</td>\n",
              "      <td>26.8</td>\n",
              "      <td>북서</td>\n",
              "      <td>1.9</td>\n",
              "      <td>0</td>\n",
              "      <td>49.7</td>\n",
              "      <td>14</td>\n",
              "    </tr>\n",
              "    <tr>\n",
              "      <th>7290</th>\n",
              "      <td>2019-08-31 21시</td>\n",
              "      <td>26.1</td>\n",
              "      <td>동북동</td>\n",
              "      <td>1.4</td>\n",
              "      <td>0</td>\n",
              "      <td>53.7</td>\n",
              "      <td>17</td>\n",
              "    </tr>\n",
              "    <tr>\n",
              "      <th>7291</th>\n",
              "      <td>2019-08-31 22시</td>\n",
              "      <td>24.9</td>\n",
              "      <td>동남동</td>\n",
              "      <td>1.5</td>\n",
              "      <td>0</td>\n",
              "      <td>59.1</td>\n",
              "      <td>23</td>\n",
              "    </tr>\n",
              "    <tr>\n",
              "      <th>7292</th>\n",
              "      <td>2019-08-31 23시</td>\n",
              "      <td>24.4</td>\n",
              "      <td>동</td>\n",
              "      <td>1.4</td>\n",
              "      <td>0</td>\n",
              "      <td>60.6</td>\n",
              "      <td>21</td>\n",
              "    </tr>\n",
              "    <tr>\n",
              "      <th>7293</th>\n",
              "      <td>2019-08-31 24시</td>\n",
              "      <td>23.6</td>\n",
              "      <td>동</td>\n",
              "      <td>1.7</td>\n",
              "      <td>0</td>\n",
              "      <td>63.7</td>\n",
              "      <td>16</td>\n",
              "    </tr>\n",
              "  </tbody>\n",
              "</table>\n",
              "<p>7260 rows × 7 columns</p>\n",
              "</div>"
            ],
            "text/plain": [
              "                  시간    온도   풍향   풍속 일사량    습도 미세먼지\n",
              "0     2018-11-01 03시   7.5    서  1.4   0  60.9   34\n",
              "1     2018-11-01 04시   6.6  서북서  1.5   0    69   44\n",
              "2     2018-11-01 05시   5.9   북서  1.3   0  74.7   55\n",
              "3     2018-11-01 06시     5   북서  1.6   0  76.7   43\n",
              "4     2018-11-01 07시   4.5   북서  1.4   4    79   48\n",
              "...              ...   ...  ...  ...  ..   ...  ...\n",
              "7289  2019-08-31 20시  26.8   북서  1.9   0  49.7   14\n",
              "7290  2019-08-31 21시  26.1  동북동  1.4   0  53.7   17\n",
              "7291  2019-08-31 22시  24.9  동남동  1.5   0  59.1   23\n",
              "7292  2019-08-31 23시  24.4    동  1.4   0  60.6   21\n",
              "7293  2019-08-31 24시  23.6    동  1.7   0  63.7   16\n",
              "\n",
              "[7260 rows x 7 columns]"
            ]
          },
          "metadata": {
            "tags": []
          },
          "execution_count": 34
        }
      ]
    },
    {
      "cell_type": "code",
      "metadata": {
        "id": "vha1xTSVxjKZ",
        "outputId": "1dbf7ff5-d067-497a-dfbf-3c039b48e2c8"
      },
      "source": [
        "indexNames = test[(test['미세먼지'] == '교정') | (test['미세먼지'] == '동불') | (test['미세먼지'] == '보수')| (test['미세먼지'] == '이상')].index\n",
        "test.drop(indexNames, inplace=True)\n",
        "test"
      ],
      "execution_count": null,
      "outputs": [
        {
          "output_type": "execute_result",
          "data": {
            "text/html": [
              "<div>\n",
              "<style scoped>\n",
              "    .dataframe tbody tr th:only-of-type {\n",
              "        vertical-align: middle;\n",
              "    }\n",
              "\n",
              "    .dataframe tbody tr th {\n",
              "        vertical-align: top;\n",
              "    }\n",
              "\n",
              "    .dataframe thead th {\n",
              "        text-align: right;\n",
              "    }\n",
              "</style>\n",
              "<table border=\"1\" class=\"dataframe\">\n",
              "  <thead>\n",
              "    <tr style=\"text-align: right;\">\n",
              "      <th></th>\n",
              "      <th>시간</th>\n",
              "      <th>온도</th>\n",
              "      <th>풍향</th>\n",
              "      <th>풍속</th>\n",
              "      <th>일사량</th>\n",
              "      <th>습도</th>\n",
              "      <th>미세먼지</th>\n",
              "    </tr>\n",
              "  </thead>\n",
              "  <tbody>\n",
              "    <tr>\n",
              "      <th>0</th>\n",
              "      <td>2018-11-01 03시</td>\n",
              "      <td>7.5</td>\n",
              "      <td>서</td>\n",
              "      <td>1.4</td>\n",
              "      <td>0</td>\n",
              "      <td>60.9</td>\n",
              "      <td>34</td>\n",
              "    </tr>\n",
              "    <tr>\n",
              "      <th>1</th>\n",
              "      <td>2018-11-01 04시</td>\n",
              "      <td>6.6</td>\n",
              "      <td>서북서</td>\n",
              "      <td>1.5</td>\n",
              "      <td>0</td>\n",
              "      <td>69</td>\n",
              "      <td>44</td>\n",
              "    </tr>\n",
              "    <tr>\n",
              "      <th>2</th>\n",
              "      <td>2018-11-01 05시</td>\n",
              "      <td>5.9</td>\n",
              "      <td>북서</td>\n",
              "      <td>1.3</td>\n",
              "      <td>0</td>\n",
              "      <td>74.7</td>\n",
              "      <td>55</td>\n",
              "    </tr>\n",
              "    <tr>\n",
              "      <th>3</th>\n",
              "      <td>2018-11-01 06시</td>\n",
              "      <td>5</td>\n",
              "      <td>북서</td>\n",
              "      <td>1.6</td>\n",
              "      <td>0</td>\n",
              "      <td>76.7</td>\n",
              "      <td>43</td>\n",
              "    </tr>\n",
              "    <tr>\n",
              "      <th>4</th>\n",
              "      <td>2018-11-01 07시</td>\n",
              "      <td>4.5</td>\n",
              "      <td>북서</td>\n",
              "      <td>1.4</td>\n",
              "      <td>4</td>\n",
              "      <td>79</td>\n",
              "      <td>48</td>\n",
              "    </tr>\n",
              "    <tr>\n",
              "      <th>...</th>\n",
              "      <td>...</td>\n",
              "      <td>...</td>\n",
              "      <td>...</td>\n",
              "      <td>...</td>\n",
              "      <td>...</td>\n",
              "      <td>...</td>\n",
              "      <td>...</td>\n",
              "    </tr>\n",
              "    <tr>\n",
              "      <th>7289</th>\n",
              "      <td>2019-08-31 20시</td>\n",
              "      <td>26.8</td>\n",
              "      <td>북서</td>\n",
              "      <td>1.9</td>\n",
              "      <td>0</td>\n",
              "      <td>49.7</td>\n",
              "      <td>14</td>\n",
              "    </tr>\n",
              "    <tr>\n",
              "      <th>7290</th>\n",
              "      <td>2019-08-31 21시</td>\n",
              "      <td>26.1</td>\n",
              "      <td>동북동</td>\n",
              "      <td>1.4</td>\n",
              "      <td>0</td>\n",
              "      <td>53.7</td>\n",
              "      <td>17</td>\n",
              "    </tr>\n",
              "    <tr>\n",
              "      <th>7291</th>\n",
              "      <td>2019-08-31 22시</td>\n",
              "      <td>24.9</td>\n",
              "      <td>동남동</td>\n",
              "      <td>1.5</td>\n",
              "      <td>0</td>\n",
              "      <td>59.1</td>\n",
              "      <td>23</td>\n",
              "    </tr>\n",
              "    <tr>\n",
              "      <th>7292</th>\n",
              "      <td>2019-08-31 23시</td>\n",
              "      <td>24.4</td>\n",
              "      <td>동</td>\n",
              "      <td>1.4</td>\n",
              "      <td>0</td>\n",
              "      <td>60.6</td>\n",
              "      <td>21</td>\n",
              "    </tr>\n",
              "    <tr>\n",
              "      <th>7293</th>\n",
              "      <td>2019-08-31 24시</td>\n",
              "      <td>23.6</td>\n",
              "      <td>동</td>\n",
              "      <td>1.7</td>\n",
              "      <td>0</td>\n",
              "      <td>63.7</td>\n",
              "      <td>16</td>\n",
              "    </tr>\n",
              "  </tbody>\n",
              "</table>\n",
              "<p>7189 rows × 7 columns</p>\n",
              "</div>"
            ],
            "text/plain": [
              "                  시간    온도   풍향   풍속 일사량    습도 미세먼지\n",
              "0     2018-11-01 03시   7.5    서  1.4   0  60.9   34\n",
              "1     2018-11-01 04시   6.6  서북서  1.5   0    69   44\n",
              "2     2018-11-01 05시   5.9   북서  1.3   0  74.7   55\n",
              "3     2018-11-01 06시     5   북서  1.6   0  76.7   43\n",
              "4     2018-11-01 07시   4.5   북서  1.4   4    79   48\n",
              "...              ...   ...  ...  ...  ..   ...  ...\n",
              "7289  2019-08-31 20시  26.8   북서  1.9   0  49.7   14\n",
              "7290  2019-08-31 21시  26.1  동북동  1.4   0  53.7   17\n",
              "7291  2019-08-31 22시  24.9  동남동  1.5   0  59.1   23\n",
              "7292  2019-08-31 23시  24.4    동  1.4   0  60.6   21\n",
              "7293  2019-08-31 24시  23.6    동  1.7   0  63.7   16\n",
              "\n",
              "[7189 rows x 7 columns]"
            ]
          },
          "metadata": {
            "tags": []
          },
          "execution_count": 35
        }
      ]
    },
    {
      "cell_type": "code",
      "metadata": {
        "id": "akJJqCW-xjKa"
      },
      "source": [
        "test['풍향']=test['풍향'].map({'남':0, '남남동':1, '남남서':2, '남동':3, '남서':4, \n",
        "                           '동':5, '동남동':6,'동북동':7,\n",
        "                           '북':8,'북동':9,'북북동':10,'북북서':11,'북서':12,\n",
        "                          '서':13,'서남서':14,'서북서':15})"
      ],
      "execution_count": null,
      "outputs": []
    },
    {
      "cell_type": "code",
      "metadata": {
        "id": "rfhFXl6ZxjKa"
      },
      "source": [
        "test.온도=test.온도.astype(\"float\")\n",
        "test.일사량=test.일사량.astype(\"float\")\n",
        "test.습도=test.습도.astype(\"float\")\n",
        "test.미세먼지=test.미세먼지.astype(\"float\")\n",
        "test.풍속=test.풍속.astype(\"float\")\n",
        "test=test.drop('시간',axis=1)"
      ],
      "execution_count": null,
      "outputs": []
    },
    {
      "cell_type": "code",
      "metadata": {
        "id": "7pjKvegHxjKa"
      },
      "source": [
        "test.columns = [' temp', 'dir', 'speed','sunlight','mist','dust']"
      ],
      "execution_count": null,
      "outputs": []
    },
    {
      "cell_type": "code",
      "metadata": {
        "id": "zof5wKGVxjKb",
        "outputId": "5a96e428-24f7-4b7b-a8e1-bfd963415e04"
      },
      "source": [
        "test"
      ],
      "execution_count": null,
      "outputs": [
        {
          "output_type": "execute_result",
          "data": {
            "text/html": [
              "<div>\n",
              "<style scoped>\n",
              "    .dataframe tbody tr th:only-of-type {\n",
              "        vertical-align: middle;\n",
              "    }\n",
              "\n",
              "    .dataframe tbody tr th {\n",
              "        vertical-align: top;\n",
              "    }\n",
              "\n",
              "    .dataframe thead th {\n",
              "        text-align: right;\n",
              "    }\n",
              "</style>\n",
              "<table border=\"1\" class=\"dataframe\">\n",
              "  <thead>\n",
              "    <tr style=\"text-align: right;\">\n",
              "      <th></th>\n",
              "      <th>temp</th>\n",
              "      <th>dir</th>\n",
              "      <th>speed</th>\n",
              "      <th>sunlight</th>\n",
              "      <th>mist</th>\n",
              "      <th>dust</th>\n",
              "    </tr>\n",
              "  </thead>\n",
              "  <tbody>\n",
              "    <tr>\n",
              "      <th>0</th>\n",
              "      <td>7.5</td>\n",
              "      <td>13</td>\n",
              "      <td>1.4</td>\n",
              "      <td>0.0</td>\n",
              "      <td>60.9</td>\n",
              "      <td>34.0</td>\n",
              "    </tr>\n",
              "    <tr>\n",
              "      <th>1</th>\n",
              "      <td>6.6</td>\n",
              "      <td>15</td>\n",
              "      <td>1.5</td>\n",
              "      <td>0.0</td>\n",
              "      <td>69.0</td>\n",
              "      <td>44.0</td>\n",
              "    </tr>\n",
              "    <tr>\n",
              "      <th>2</th>\n",
              "      <td>5.9</td>\n",
              "      <td>12</td>\n",
              "      <td>1.3</td>\n",
              "      <td>0.0</td>\n",
              "      <td>74.7</td>\n",
              "      <td>55.0</td>\n",
              "    </tr>\n",
              "    <tr>\n",
              "      <th>3</th>\n",
              "      <td>5.0</td>\n",
              "      <td>12</td>\n",
              "      <td>1.6</td>\n",
              "      <td>0.0</td>\n",
              "      <td>76.7</td>\n",
              "      <td>43.0</td>\n",
              "    </tr>\n",
              "    <tr>\n",
              "      <th>4</th>\n",
              "      <td>4.5</td>\n",
              "      <td>12</td>\n",
              "      <td>1.4</td>\n",
              "      <td>4.0</td>\n",
              "      <td>79.0</td>\n",
              "      <td>48.0</td>\n",
              "    </tr>\n",
              "    <tr>\n",
              "      <th>...</th>\n",
              "      <td>...</td>\n",
              "      <td>...</td>\n",
              "      <td>...</td>\n",
              "      <td>...</td>\n",
              "      <td>...</td>\n",
              "      <td>...</td>\n",
              "    </tr>\n",
              "    <tr>\n",
              "      <th>7289</th>\n",
              "      <td>26.8</td>\n",
              "      <td>12</td>\n",
              "      <td>1.9</td>\n",
              "      <td>0.0</td>\n",
              "      <td>49.7</td>\n",
              "      <td>14.0</td>\n",
              "    </tr>\n",
              "    <tr>\n",
              "      <th>7290</th>\n",
              "      <td>26.1</td>\n",
              "      <td>7</td>\n",
              "      <td>1.4</td>\n",
              "      <td>0.0</td>\n",
              "      <td>53.7</td>\n",
              "      <td>17.0</td>\n",
              "    </tr>\n",
              "    <tr>\n",
              "      <th>7291</th>\n",
              "      <td>24.9</td>\n",
              "      <td>6</td>\n",
              "      <td>1.5</td>\n",
              "      <td>0.0</td>\n",
              "      <td>59.1</td>\n",
              "      <td>23.0</td>\n",
              "    </tr>\n",
              "    <tr>\n",
              "      <th>7292</th>\n",
              "      <td>24.4</td>\n",
              "      <td>5</td>\n",
              "      <td>1.4</td>\n",
              "      <td>0.0</td>\n",
              "      <td>60.6</td>\n",
              "      <td>21.0</td>\n",
              "    </tr>\n",
              "    <tr>\n",
              "      <th>7293</th>\n",
              "      <td>23.6</td>\n",
              "      <td>5</td>\n",
              "      <td>1.7</td>\n",
              "      <td>0.0</td>\n",
              "      <td>63.7</td>\n",
              "      <td>16.0</td>\n",
              "    </tr>\n",
              "  </tbody>\n",
              "</table>\n",
              "<p>7189 rows × 6 columns</p>\n",
              "</div>"
            ],
            "text/plain": [
              "       temp  dir  speed  sunlight  mist  dust\n",
              "0       7.5   13    1.4       0.0  60.9  34.0\n",
              "1       6.6   15    1.5       0.0  69.0  44.0\n",
              "2       5.9   12    1.3       0.0  74.7  55.0\n",
              "3       5.0   12    1.6       0.0  76.7  43.0\n",
              "4       4.5   12    1.4       4.0  79.0  48.0\n",
              "...     ...  ...    ...       ...   ...   ...\n",
              "7289   26.8   12    1.9       0.0  49.7  14.0\n",
              "7290   26.1    7    1.4       0.0  53.7  17.0\n",
              "7291   24.9    6    1.5       0.0  59.1  23.0\n",
              "7292   24.4    5    1.4       0.0  60.6  21.0\n",
              "7293   23.6    5    1.7       0.0  63.7  16.0\n",
              "\n",
              "[7189 rows x 6 columns]"
            ]
          },
          "metadata": {
            "tags": []
          },
          "execution_count": 39
        }
      ]
    },
    {
      "cell_type": "code",
      "metadata": {
        "id": "A__COCFXxjKb",
        "outputId": "3aa2d1f1-9415-454b-9818-dfe2ad6c7ea7"
      },
      "source": [
        "y_test=test.dust\n",
        "y_test.columns=['dust']\n",
        "y_test\n",
        "#y_data=y_data"
      ],
      "execution_count": null,
      "outputs": [
        {
          "output_type": "execute_result",
          "data": {
            "text/plain": [
              "0       34.0\n",
              "1       44.0\n",
              "2       55.0\n",
              "3       43.0\n",
              "4       48.0\n",
              "        ... \n",
              "7289    14.0\n",
              "7290    17.0\n",
              "7291    23.0\n",
              "7292    21.0\n",
              "7293    16.0\n",
              "Name: dust, Length: 7189, dtype: float64"
            ]
          },
          "metadata": {
            "tags": []
          },
          "execution_count": 40
        }
      ]
    },
    {
      "cell_type": "code",
      "metadata": {
        "id": "mAFhWGWTxjKb",
        "outputId": "e785d834-2b96-4ecb-fe96-a9d6538c76b3"
      },
      "source": [
        "test=test.drop('dust',axis=1)\n",
        "test"
      ],
      "execution_count": null,
      "outputs": [
        {
          "output_type": "execute_result",
          "data": {
            "text/html": [
              "<div>\n",
              "<style scoped>\n",
              "    .dataframe tbody tr th:only-of-type {\n",
              "        vertical-align: middle;\n",
              "    }\n",
              "\n",
              "    .dataframe tbody tr th {\n",
              "        vertical-align: top;\n",
              "    }\n",
              "\n",
              "    .dataframe thead th {\n",
              "        text-align: right;\n",
              "    }\n",
              "</style>\n",
              "<table border=\"1\" class=\"dataframe\">\n",
              "  <thead>\n",
              "    <tr style=\"text-align: right;\">\n",
              "      <th></th>\n",
              "      <th>temp</th>\n",
              "      <th>dir</th>\n",
              "      <th>speed</th>\n",
              "      <th>sunlight</th>\n",
              "      <th>mist</th>\n",
              "    </tr>\n",
              "  </thead>\n",
              "  <tbody>\n",
              "    <tr>\n",
              "      <th>0</th>\n",
              "      <td>7.5</td>\n",
              "      <td>13</td>\n",
              "      <td>1.4</td>\n",
              "      <td>0.0</td>\n",
              "      <td>60.9</td>\n",
              "    </tr>\n",
              "    <tr>\n",
              "      <th>1</th>\n",
              "      <td>6.6</td>\n",
              "      <td>15</td>\n",
              "      <td>1.5</td>\n",
              "      <td>0.0</td>\n",
              "      <td>69.0</td>\n",
              "    </tr>\n",
              "    <tr>\n",
              "      <th>2</th>\n",
              "      <td>5.9</td>\n",
              "      <td>12</td>\n",
              "      <td>1.3</td>\n",
              "      <td>0.0</td>\n",
              "      <td>74.7</td>\n",
              "    </tr>\n",
              "    <tr>\n",
              "      <th>3</th>\n",
              "      <td>5.0</td>\n",
              "      <td>12</td>\n",
              "      <td>1.6</td>\n",
              "      <td>0.0</td>\n",
              "      <td>76.7</td>\n",
              "    </tr>\n",
              "    <tr>\n",
              "      <th>4</th>\n",
              "      <td>4.5</td>\n",
              "      <td>12</td>\n",
              "      <td>1.4</td>\n",
              "      <td>4.0</td>\n",
              "      <td>79.0</td>\n",
              "    </tr>\n",
              "    <tr>\n",
              "      <th>...</th>\n",
              "      <td>...</td>\n",
              "      <td>...</td>\n",
              "      <td>...</td>\n",
              "      <td>...</td>\n",
              "      <td>...</td>\n",
              "    </tr>\n",
              "    <tr>\n",
              "      <th>7289</th>\n",
              "      <td>26.8</td>\n",
              "      <td>12</td>\n",
              "      <td>1.9</td>\n",
              "      <td>0.0</td>\n",
              "      <td>49.7</td>\n",
              "    </tr>\n",
              "    <tr>\n",
              "      <th>7290</th>\n",
              "      <td>26.1</td>\n",
              "      <td>7</td>\n",
              "      <td>1.4</td>\n",
              "      <td>0.0</td>\n",
              "      <td>53.7</td>\n",
              "    </tr>\n",
              "    <tr>\n",
              "      <th>7291</th>\n",
              "      <td>24.9</td>\n",
              "      <td>6</td>\n",
              "      <td>1.5</td>\n",
              "      <td>0.0</td>\n",
              "      <td>59.1</td>\n",
              "    </tr>\n",
              "    <tr>\n",
              "      <th>7292</th>\n",
              "      <td>24.4</td>\n",
              "      <td>5</td>\n",
              "      <td>1.4</td>\n",
              "      <td>0.0</td>\n",
              "      <td>60.6</td>\n",
              "    </tr>\n",
              "    <tr>\n",
              "      <th>7293</th>\n",
              "      <td>23.6</td>\n",
              "      <td>5</td>\n",
              "      <td>1.7</td>\n",
              "      <td>0.0</td>\n",
              "      <td>63.7</td>\n",
              "    </tr>\n",
              "  </tbody>\n",
              "</table>\n",
              "<p>7189 rows × 5 columns</p>\n",
              "</div>"
            ],
            "text/plain": [
              "       temp  dir  speed  sunlight  mist\n",
              "0       7.5   13    1.4       0.0  60.9\n",
              "1       6.6   15    1.5       0.0  69.0\n",
              "2       5.9   12    1.3       0.0  74.7\n",
              "3       5.0   12    1.6       0.0  76.7\n",
              "4       4.5   12    1.4       4.0  79.0\n",
              "...     ...  ...    ...       ...   ...\n",
              "7289   26.8   12    1.9       0.0  49.7\n",
              "7290   26.1    7    1.4       0.0  53.7\n",
              "7291   24.9    6    1.5       0.0  59.1\n",
              "7292   24.4    5    1.4       0.0  60.6\n",
              "7293   23.6    5    1.7       0.0  63.7\n",
              "\n",
              "[7189 rows x 5 columns]"
            ]
          },
          "metadata": {
            "tags": []
          },
          "execution_count": 41
        }
      ]
    },
    {
      "cell_type": "code",
      "metadata": {
        "id": "nDO-7ACyxjKc",
        "outputId": "f2bd5bd0-caad-4d93-8636-957bd32ad6d3"
      },
      "source": [
        "test=array(y_test)\n",
        "test.shape\n",
        "test"
      ],
      "execution_count": null,
      "outputs": [
        {
          "output_type": "execute_result",
          "data": {
            "text/plain": [
              "array([34., 44., 55., ..., 23., 21., 16.])"
            ]
          },
          "metadata": {
            "tags": []
          },
          "execution_count": 42
        }
      ]
    },
    {
      "cell_type": "code",
      "metadata": {
        "id": "dFWe0r_OxjKc",
        "outputId": "a1cc356a-d879-4ffb-b5eb-69f16e3bbb8b"
      },
      "source": [
        "test_train, test_test = split_sequence(test, steps)\n",
        "print(test_train.shape, test_test.shape)"
      ],
      "execution_count": null,
      "outputs": [
        {
          "output_type": "stream",
          "text": [
            "(7184, 5) (7184,)\n"
          ],
          "name": "stdout"
        }
      ]
    },
    {
      "cell_type": "code",
      "metadata": {
        "id": "cg8VRpX2xjKc",
        "outputId": "410bc1a4-fae5-4809-bfa4-dbbddafc7856"
      },
      "source": [
        "test_train"
      ],
      "execution_count": null,
      "outputs": [
        {
          "output_type": "execute_result",
          "data": {
            "text/plain": [
              "array([[34., 44., 55., 43., 48.],\n",
              "       [44., 55., 43., 48., 53.],\n",
              "       [55., 43., 48., 53., 65.],\n",
              "       ...,\n",
              "       [16., 16., 15., 14., 17.],\n",
              "       [16., 15., 14., 17., 23.],\n",
              "       [15., 14., 17., 23., 21.]])"
            ]
          },
          "metadata": {
            "tags": []
          },
          "execution_count": 44
        }
      ]
    },
    {
      "cell_type": "code",
      "metadata": {
        "id": "b1wIyNKgxjKd",
        "outputId": "19169b45-0fab-44c3-a911-9146ea23760e"
      },
      "source": [
        "test_test=array(test_test)\n",
        "test_test"
      ],
      "execution_count": null,
      "outputs": [
        {
          "output_type": "execute_result",
          "data": {
            "text/plain": [
              "array([53., 65., 53., ..., 23., 21., 16.])"
            ]
          },
          "metadata": {
            "tags": []
          },
          "execution_count": 45
        }
      ]
    },
    {
      "cell_type": "code",
      "metadata": {
        "id": "wS5QhClmxjKd"
      },
      "source": [
        "test_train = test_train.reshape((test_train.shape[0], test_train.shape[1], features))"
      ],
      "execution_count": null,
      "outputs": []
    },
    {
      "cell_type": "code",
      "metadata": {
        "id": "-bv9sbLTxjKd"
      },
      "source": [
        "y_hat_test=model.predict(test_train)"
      ],
      "execution_count": null,
      "outputs": []
    },
    {
      "cell_type": "markdown",
      "metadata": {
        "id": "U0z4LPpBxjKe"
      },
      "source": [
        "## 예측값 및 실제값 비교"
      ]
    },
    {
      "cell_type": "code",
      "metadata": {
        "id": "y2og6yPhxjKe",
        "outputId": "5786fccb-bce9-4a44-be37-8f1c69fd0ce0"
      },
      "source": [
        "import matplotlib.pyplot as plt\n",
        "\n",
        "plt.figure(figsize=(10,10))\n",
        "plt.subplot(211)\n",
        "plt.plot(y_hat_test, '#0000FF')\n",
        "\n",
        "plt.subplot(212)\n",
        "plt.plot(test_test, '#FF0000')\n",
        "plt.legend(['Predicted','Actual'], loc='upper right',fontsize=10)\n",
        "plt.xticks(fontsize=10)\n",
        "plt.yticks(fontsize=10)\n",
        "plt.show()\n"
      ],
      "execution_count": null,
      "outputs": [
        {
          "output_type": "display_data",
          "data": {
            "image/png": "[encoded data removed]",
            "text/plain": [
              "<Figure size 720x720 with 2 Axes>"
            ]
          },
          "metadata": {
            "tags": [],
            "needs_background": "light"
          }
        }
      ]
    },
    {
      "cell_type": "markdown",
      "metadata": {
        "id": "79iTNux9xjKe"
      },
      "source": [
        "## 참조 사이트: https://dsbook.tistory.com/22"
      ]
    }
  ]
}